{
 "cells": [
  {
   "cell_type": "markdown",
   "metadata": {},
   "source": [
    "# Symbolic Regression"
   ]
  },
  {
   "cell_type": "markdown",
   "metadata": {},
   "source": [
    "## Note: Run all the code cells below in order to ensure everything runs correctly "
   ]
  },
  {
   "cell_type": "markdown",
   "metadata": {},
   "source": [
    "For this lab, we are going to focus on a different kind of evolutionary algorithm than genetic algorithms. This lab will be focused on genetic programming."
   ]
  },
  {
   "cell_type": "markdown",
   "metadata": {},
   "source": [
    "Genetic programming is an evolutionary approach to generating computer programs. GP is the tool we will use for automated algorithm design."
   ]
  },
  {
   "cell_type": "markdown",
   "metadata": {},
   "source": [
    "We will start by importing the libraries we need for GP."
   ]
  },
  {
   "cell_type": "code",
   "execution_count": 1,
   "metadata": {},
   "outputs": [],
   "source": [
    "import random\n",
    "import operator\n",
    "\n",
    "import numpy as np\n",
    "import matplotlib.pyplot as plt\n",
    "\n",
    "from deap import algorithms\n",
    "from deap import base\n",
    "from deap import creator\n",
    "from deap import tools\n",
    "from deap import gp"
   ]
  },
  {
   "cell_type": "markdown",
   "metadata": {},
   "source": [
    "Next, we will create our fitness and individual classes."
   ]
  },
  {
   "cell_type": "code",
   "execution_count": 2,
   "metadata": {},
   "outputs": [],
   "source": [
    "creator.create(\"FitnessMin\", base.Fitness, weights=(-1.0,))\n",
    "creator.create(\"Individual\", gp.PrimitiveTree, fitness=creator.FitnessMin)"
   ]
  },
  {
   "cell_type": "markdown",
   "metadata": {},
   "source": [
    "This time our individual class inherits from DEAP's PrimitiveTree class instead of a list. This is because our individuals will be represented as a tree structure. Trees are the most common data structure used in GP. In GP, trees are made of functions and variables called primitives. Each primitive is a node in the tree where the leaves of a node are the inputs to the parent node. When we evaluate each individual we simply compile the primitive tree from its leaves to its root node."
   ]
  },
  {
   "cell_type": "markdown",
   "metadata": {},
   "source": [
    "The source code for PrimitiveTree and gp.compile can be found here: https://github.com/DEAP/deap/blob/master/deap/gp.py"
   ]
  },
  {
   "cell_type": "markdown",
   "metadata": {},
   "source": [
    "Next, we will initialize a primitive set and add all the primitives our trees can use."
   ]
  },
  {
   "cell_type": "code",
   "execution_count": 3,
   "metadata": {},
   "outputs": [],
   "source": [
    "pset = gp.PrimitiveSet(\"MAIN\", arity=1)\n",
    "pset.addPrimitive(np.add, arity=2)\n",
    "pset.addPrimitive(np.subtract, arity=2)\n",
    "pset.addPrimitive(np.multiply, arity=2)\n",
    "pset.addPrimitive(np.negative, arity=1)\n",
    "pset.renameArguments(ARG0='x')"
   ]
  },
  {
   "cell_type": "markdown",
   "metadata": {},
   "source": [
    "We added several mathematical operators to our primitive set. We also renamed the default first argument name in DEAP to x instead of ARG0. The arity parameter we defined specifies the amount of arguments each primitive takes."
   ]
  },
  {
   "cell_type": "markdown",
   "metadata": {},
   "source": [
    "Add at least two new primitives in the code cell below."
   ]
  },
  {
   "cell_type": "code",
   "execution_count": 4,
   "metadata": {},
   "outputs": [],
   "source": [
    "pset.addPrimitive(np.power, arity = 2)\n",
    "pset.addPrimitive(np.divide, arity = 2)"
   ]
  },
  {
   "cell_type": "markdown",
   "metadata": {},
   "source": [
    "Next we will define our toolbox, individual, population, and compiler."
   ]
  },
  {
   "cell_type": "code",
   "execution_count": 5,
   "metadata": {},
   "outputs": [],
   "source": [
    "toolbox = base.Toolbox()\n",
    "toolbox.register(\"expr\", gp.genHalfAndHalf, pset=pset, min_=1, max_=2)\n",
    "toolbox.register(\"individual\", tools.initIterate, creator.Individual, toolbox.expr)\n",
    "toolbox.register(\"population\", tools.initRepeat, list, toolbox.individual)\n",
    "toolbox.register(\"compile\", gp.compile, pset=pset)"
   ]
  },
  {
   "cell_type": "markdown",
   "metadata": {},
   "source": [
    "By now this format should look familar to you. The major difference here is the \"expr\" function we defined. gp.genHaldandHalf returns a primitive tree based on a primitive set and a minimum and maximum tree depth. In this case the primitive set is the one we defined earlier, the minimum depth is 1, and the maxmimum depth is 2. I encourage you to change the minimum and maximum depth and observe the results."
   ]
  },
  {
   "cell_type": "markdown",
   "metadata": {},
   "source": [
    "Next, we will define our evaluation function."
   ]
  },
  {
   "cell_type": "code",
   "execution_count": 6,
   "metadata": {},
   "outputs": [],
   "source": [
    "def evalSymbReg(individual, points, pset):\n",
    "    func = gp.compile(expr=individual, pset=pset)\n",
    "    sqerrors = (func(points)-(points**4 + points**3 + points**2 + points))**2\n",
    "    return (np.sqrt(np.sum(sqerrors) / len(points)),)"
   ]
  },
  {
   "cell_type": "markdown",
   "metadata": {},
   "source": [
    "To evaluate our primitive tree we first compile the tree into a function. Then, we calculate the function and determine the mean squared error between the function we compile and the actual function we are trying to generate. We are optimizing the function we are generating by minimizing mean squared error."
   ]
  },
  {
   "cell_type": "markdown",
   "metadata": {},
   "source": [
    "We are not trying to fit a function to data though. We are trying to generate a specific output. We already know what the ideal function is and our primitive set contains all the primitives used by the ideal function. However, you could think of genetic programming as finding the best combination of primitives given objectives to minimize or maximize. This means we care a lot less about data than machine learning and care more about objectives."
   ]
  },
  {
   "cell_type": "markdown",
   "metadata": {},
   "source": [
    "Next, we will register our genetic operators."
   ]
  },
  {
   "cell_type": "code",
   "execution_count": 7,
   "metadata": {},
   "outputs": [],
   "source": [
    "toolbox.register(\"evaluate\", evalSymbReg, points=np.linspace(-1, 1, 1000), pset=pset)\n",
    "toolbox.register(\"select\", tools.selTournament, tournsize=3)\n",
    "toolbox.register(\"mate\", gp.cxOnePoint)\n",
    "toolbox.register(\"expr_mut\", gp.genFull, min_=0, max_=2)\n",
    "toolbox.register(\"mutate\", gp.mutUniform, expr=toolbox.expr_mut, pset=pset)"
   ]
  },
  {
   "cell_type": "markdown",
   "metadata": {},
   "source": [
    "Add at least one more mutation method in the code cell below and try out this mutation method in the evolutionary loop found further below.\n",
    "\n",
    "You can find more GP mutations in the DEAP source code here: https://github.com/DEAP/deap/blob/master/deap/gp.py"
   ]
  },
  {
   "cell_type": "code",
   "execution_count": 8,
   "metadata": {},
   "outputs": [],
   "source": [
    "toolbox.register(\"node_replacement\", gp.mutNodeReplacement, pset=pset)"
   ]
  },
  {
   "cell_type": "markdown",
   "metadata": {},
   "source": [
    "You can optionally add tree height contraints to our mutation and crossover functions."
   ]
  },
  {
   "cell_type": "code",
   "execution_count": 9,
   "metadata": {},
   "outputs": [],
   "source": [
    "toolbox.decorate(\"mate\", gp.staticLimit(key=operator.attrgetter(\"height\"), max_value=17))\n",
    "toolbox.decorate(\"mutate\", gp.staticLimit(key=operator.attrgetter(\"height\"), max_value=17))"
   ]
  },
  {
   "cell_type": "markdown",
   "metadata": {},
   "source": [
    "Next, we will program the main evolutionary algorithm."
   ]
  },
  {
   "cell_type": "code",
   "execution_count": 10,
   "metadata": {},
   "outputs": [
    {
     "name": "stderr",
     "output_type": "stream",
     "text": [
      "<string>:1: RuntimeWarning: invalid value encountered in power\n",
      "<string>:1: RuntimeWarning: divide by zero encountered in true_divide\n",
      "<string>:1: RuntimeWarning: divide by zero encountered in power\n"
     ]
    },
    {
     "name": "stdout",
     "output_type": "stream",
     "text": [
      "-- Generation 0 --\n",
      "  Min nan\n",
      "  Max nan\n",
      "  Avg nan\n",
      "  Std nan\n",
      "-- Generation 1 --\n",
      "  Min 0.4337245151489531\n",
      "  Max inf\n",
      "  Avg nan\n",
      "  Std nan\n",
      "-- Generation 2 --\n",
      "  Min 0.4337245151489531\n",
      "  Max 2.123601995374787\n",
      "  Avg nan\n",
      "  Std nan\n",
      "-- Generation 3 --\n",
      "  Min 0.3185682254736571\n",
      "  Max 2.0464889335252203\n",
      "  Avg nan\n",
      "  Std nan\n",
      "-- Generation 4 --\n",
      "  Min 0.4112027678437573\n",
      "  Max 2.0464889335252203\n",
      "  Avg nan\n",
      "  Std nan\n",
      "-- Generation 5 --\n",
      "  Min 0.3185682254736571\n",
      "  Max inf\n",
      "  Avg nan\n",
      "  Std nan\n",
      "-- Generation 6 --\n",
      "  Min 0.3185682254736571\n",
      "  Max 1.623563447983785\n",
      "  Avg nan\n",
      "  Std nan\n",
      "-- Generation 7 --\n",
      "  Min 0.3185682254736571\n",
      "  Max inf\n",
      "  Avg nan\n",
      "  Std nan\n",
      "-- Generation 8 --\n",
      "  Min 0.15928411273179102\n",
      "  Max inf\n",
      "  Avg nan\n",
      "  Std nan\n",
      "-- Generation 9 --\n",
      "  Min 0.159284112731791\n",
      "  Max 49.63344753627227\n",
      "  Avg nan\n",
      "  Std nan\n",
      "-- Generation 10 --\n",
      "  Min 0.159284112731791\n",
      "  Max 49.60905645572993\n",
      "  Avg nan\n",
      "  Std nan\n",
      "-- Generation 11 --\n",
      "  Min 1.2535232650497578e-16\n",
      "  Max 49.6024697172649\n",
      "  Avg nan\n",
      "  Std nan\n",
      "-- Generation 12 --\n",
      "  Min 1.0353491831592484e-16\n",
      "  Max 49.596311211263156\n",
      "  Avg nan\n",
      "  Std nan\n",
      "-- Generation 13 --\n",
      "  Min 1.0353491831592484e-16\n",
      "  Max inf\n",
      "  Avg nan\n",
      "  Std nan\n",
      "-- Generation 14 --\n",
      "  Min 1.2535232650497578e-16\n",
      "  Max 49.596311211263156\n",
      "  Avg nan\n",
      "  Std nan\n",
      "-- Generation 15 --\n",
      "  Min 1.2535232650497578e-16\n",
      "  Max 49.61397702601448\n",
      "  Avg nan\n",
      "  Std nan\n",
      "-- Generation 16 --\n",
      "  Min nan\n",
      "  Max nan\n",
      "  Avg nan\n",
      "  Std nan\n",
      "-- Generation 17 --\n",
      "  Min nan\n",
      "  Max nan\n",
      "  Avg nan\n",
      "  Std nan\n",
      "-- Generation 18 --\n",
      "  Min nan\n",
      "  Max nan\n",
      "  Avg nan\n",
      "  Std nan\n",
      "-- Generation 19 --\n",
      "  Min 1.1685288420031138e-16\n",
      "  Max 44958.268259014476\n",
      "  Avg nan\n",
      "  Std nan\n",
      "-- Generation 20 --\n",
      "  Min 1.1685288420031138e-16\n",
      "  Max inf\n",
      "  Avg nan\n",
      "  Std nan\n",
      "-- Generation 21 --\n"
     ]
    },
    {
     "name": "stderr",
     "output_type": "stream",
     "text": [
      "<string>:1: RuntimeWarning: invalid value encountered in multiply\n"
     ]
    },
    {
     "name": "stdout",
     "output_type": "stream",
     "text": [
      "  Min 1.1685288420031138e-16\n",
      "  Max inf\n",
      "  Avg nan\n",
      "  Std nan\n",
      "-- Generation 22 --\n",
      "  Min 1.1685288420031138e-16\n",
      "  Max inf\n",
      "  Avg nan\n",
      "  Std nan\n",
      "-- Generation 23 --\n",
      "  Min 1.0166651772111317e-16\n",
      "  Max inf\n",
      "  Avg nan\n",
      "  Std nan\n",
      "-- Generation 24 --\n",
      "  Min 1.0166651772111317e-16\n",
      "  Max inf\n",
      "  Avg nan\n",
      "  Std nan\n",
      "-- Generation 25 --\n",
      "  Min 1.0166651772111317e-16\n",
      "  Max 1.623563447983785\n",
      "  Avg nan\n",
      "  Std nan\n",
      "-- Generation 26 --\n",
      "  Min nan\n",
      "  Max nan\n",
      "  Avg nan\n",
      "  Std nan\n",
      "-- Generation 27 --\n",
      "  Min 1.1041911805293318e-16\n",
      "  Max inf\n",
      "  Avg nan\n",
      "  Std nan\n",
      "-- Generation 28 --\n",
      "  Min 1.1041911805293318e-16\n",
      "  Max inf\n",
      "  Avg nan\n",
      "  Std nan\n",
      "-- Generation 29 --\n",
      "  Min 1.1041911805293318e-16\n",
      "  Max inf\n",
      "  Avg nan\n",
      "  Std nan\n",
      "-- Generation 30 --\n",
      "  Min 1.1041911805293318e-16\n",
      "  Max inf\n",
      "  Avg nan\n",
      "  Std nan\n",
      "-- Generation 31 --\n",
      "  Min 1.1041911805293318e-16\n",
      "  Max inf\n",
      "  Avg nan\n",
      "  Std nan\n",
      "-- Generation 32 --\n",
      "  Min 1.1041911805293318e-16\n",
      "  Max inf\n",
      "  Avg nan\n",
      "  Std nan\n",
      "-- Generation 33 --\n",
      "  Min 1.1041911805293318e-16\n",
      "  Max inf\n",
      "  Avg nan\n",
      "  Std nan\n",
      "-- Generation 34 --\n",
      "  Min 1.1041911805293318e-16\n",
      "  Max inf\n",
      "  Avg nan\n",
      "  Std nan\n",
      "-- Generation 35 --\n",
      "  Min 1.1041911805293318e-16\n",
      "  Max inf\n",
      "  Avg nan\n",
      "  Std nan\n",
      "-- Generation 36 --\n",
      "  Min 1.1041911805293318e-16\n",
      "  Max 2.4296414686343755\n",
      "  Avg nan\n",
      "  Std nan\n",
      "-- Generation 37 --\n"
     ]
    },
    {
     "name": "stderr",
     "output_type": "stream",
     "text": [
      "<string>:1: RuntimeWarning: invalid value encountered in true_divide\n"
     ]
    },
    {
     "name": "stdout",
     "output_type": "stream",
     "text": [
      "  Min 1.1041911805293318e-16\n",
      "  Max inf\n",
      "  Avg nan\n",
      "  Std nan\n",
      "-- Generation 38 --\n",
      "  Min 1.1041911805293318e-16\n",
      "  Max inf\n",
      "  Avg nan\n",
      "  Std nan\n",
      "-- Generation 39 --\n",
      "  Min 1.1041911805293318e-16\n",
      "  Max 49.596311211263156\n",
      "  Avg nan\n",
      "  Std nan\n",
      "-- End of (successful) evolution --\n",
      "Best individual is add(multiply(x, add(x, multiply(x, x))), add(x, multiply(x, multiply(x, multiply(x, x))))), (1.1041911805293318e-16,)\n"
     ]
    }
   ],
   "source": [
    "gen = range(40)\n",
    "avg_list = []\n",
    "max_list = []\n",
    "min_list = []\n",
    "\n",
    "pop = toolbox.population(n=300)\n",
    "\n",
    "# Evaluate the entire population\n",
    "fitnesses = list(map(toolbox.evaluate, pop))\n",
    "for ind, fit in zip(pop, fitnesses):\n",
    "    ind.fitness.values = fit\n",
    "\n",
    "# Begin the evolution\n",
    "for g in gen:\n",
    "    print(\"-- Generation %i --\" % g)\n",
    "\n",
    "    # Select the next generation individuals\n",
    "    offspring = toolbox.select(pop, len(pop))\n",
    "    # Clone the selected individuals\n",
    "    offspring = list(map(toolbox.clone, offspring))\n",
    "\n",
    "    # Apply crossover and mutation on the offspring\n",
    "    for child1, child2 in zip(offspring[::2], offspring[1::2]):\n",
    "        if random.random() < 0.8:\n",
    "            toolbox.mate(child1, child2)\n",
    "            del child1.fitness.values\n",
    "            del child2.fitness.values\n",
    "\n",
    "    for mutant in offspring:\n",
    "        if random.random() < 0.2:\n",
    "            toolbox.node_replacement(mutant)\n",
    "            del mutant.fitness.values\n",
    "\n",
    "    # Evaluate the individuals with an invalid fitness\n",
    "    invalid_ind = [ind for ind in offspring if not ind.fitness.valid]\n",
    "    fitnesses = map(toolbox.evaluate, invalid_ind)\n",
    "    for ind, fit in zip(invalid_ind, fitnesses):\n",
    "        ind.fitness.values = fit\n",
    "\n",
    "    # Replace population\n",
    "    pop[:] = offspring\n",
    "\n",
    "    # Gather all the fitnesses in one list and print the stats\n",
    "    fits = [ind.fitness.values[0] for ind in pop]\n",
    "\n",
    "    length = len(pop)\n",
    "    mean = sum(fits) / length\n",
    "    sum2 = sum(x*x for x in fits)\n",
    "    std = abs(sum2 / length - mean**2)**0.5\n",
    "    g_max = max(fits)\n",
    "    g_min = min(fits)\n",
    "        \n",
    "    avg_list.append(mean)\n",
    "    max_list.append(g_max)\n",
    "    min_list.append(g_min)\n",
    "\n",
    "    print(\"  Min %s\" % g_min)\n",
    "    print(\"  Max %s\" % g_max)\n",
    "    print(\"  Avg %s\" % mean)\n",
    "    print(\"  Std %s\" % std)\n",
    "\n",
    "print(\"-- End of (successful) evolution --\")\n",
    "\n",
    "best_ind = tools.selBest(pop, 1)[0]\n",
    "print(\"Best individual is %s, %s\" % (best_ind, best_ind.fitness.values))"
   ]
  },
  {
   "cell_type": "markdown",
   "metadata": {},
   "source": [
    "The format above should look familar to you. It's the same evolutionary loop we used in Lab 1."
   ]
  },
  {
   "cell_type": "markdown",
   "metadata": {},
   "source": [
    "The format of the best individual above is different from the list format of our previous problems. The individual is printed out in a tree format being read from left to right. There are ways to visualize the individual tree. However, this lab will not cover how to visualize the individual. I encourage you to look up networkx and graphviz if you are interested."
   ]
  },
  {
   "cell_type": "markdown",
   "metadata": {},
   "source": [
    "Next, we will add graphing."
   ]
  },
  {
   "cell_type": "code",
   "execution_count": 11,
   "metadata": {},
   "outputs": [
    {
     "data": {
      "image/png": "[encoded data removed]",
      "text/plain": [
       "<Figure size 432x288 with 1 Axes>"
      ]
     },
     "metadata": {
      "needs_background": "light"
     },
     "output_type": "display_data"
    }
   ],
   "source": [
    "plt.plot(gen, avg_list, label=\"average\")\n",
    "plt.plot(gen, min_list, label=\"minimum\")\n",
    "plt.plot(gen, max_list, label=\"maximum\")\n",
    "plt.xlabel(\"Generation\")\n",
    "plt.ylabel(\"Fitness\")\n",
    "plt.legend(loc=\"upper right\")\n",
    "plt.show()"
   ]
  },
  {
   "cell_type": "markdown",
   "metadata": {},
   "source": [
    "Experiment with the parameters of the above genetic programming to improve the results."
   ]
  },
  {
   "cell_type": "markdown",
   "metadata": {},
   "source": [
    "# Multi-Objective Genetic Programming"
   ]
  },
  {
   "cell_type": "markdown",
   "metadata": {},
   "source": [
    "### With Symbolic Regression"
   ]
  },
  {
   "cell_type": "markdown",
   "metadata": {},
   "source": [
    "To demonstrate multi-objective optimization, we are going to modify our code above."
   ]
  },
  {
   "cell_type": "markdown",
   "metadata": {},
   "source": [
    "First, we will create new fitness and individual classes for a multiobjective problem."
   ]
  },
  {
   "cell_type": "code",
   "execution_count": 12,
   "metadata": {
    "scrolled": true
   },
   "outputs": [
    {
     "name": "stderr",
     "output_type": "stream",
     "text": [
      "/Users/brandonsu/anaconda3/lib/python3.7/site-packages/deap/creator.py:141: RuntimeWarning: A class named 'FitnessMin' has already been created and it will be overwritten. Consider deleting previous creation of that class or rename it.\n",
      "  RuntimeWarning)\n",
      "/Users/brandonsu/anaconda3/lib/python3.7/site-packages/deap/creator.py:141: RuntimeWarning: A class named 'Individual' has already been created and it will be overwritten. Consider deleting previous creation of that class or rename it.\n",
      "  RuntimeWarning)\n"
     ]
    }
   ],
   "source": [
    "creator.create(\"FitnessMin\", base.Fitness, weights=(-1.0,-1.0))\n",
    "creator.create(\"Individual\", gp.PrimitiveTree, fitness=creator.FitnessMin)"
   ]
  },
  {
   "cell_type": "markdown",
   "metadata": {},
   "source": [
    "We will minimize two objectives, mean squared error and the size of our tree."
   ]
  },
  {
   "cell_type": "markdown",
   "metadata": {},
   "source": [
    "Next, we are going to add three new primitives to our primitive set and set a seed for randomization. We will also reinitialize our toolbox to make sure all of our tools work properly."
   ]
  },
  {
   "cell_type": "code",
   "execution_count": 13,
   "metadata": {},
   "outputs": [],
   "source": [
    "random.seed(25)\n",
    "\n",
    "pset = gp.PrimitiveSet(\"MAIN\", arity=1)\n",
    "pset.addPrimitive(np.add, arity=2)\n",
    "pset.addPrimitive(np.subtract, arity=2)\n",
    "pset.addPrimitive(np.multiply, arity=2)\n",
    "pset.addPrimitive(np.negative, arity=1)\n",
    "pset.addPrimitive(np.sin, arity=1)\n",
    "pset.addPrimitive(np.cos, arity=1)\n",
    "pset.addPrimitive(np.tan, arity=1)\n",
    "pset.renameArguments(ARG0='x')\n",
    "\n",
    "toolbox = base.Toolbox()\n",
    "toolbox.register(\"expr\", gp.genHalfAndHalf, pset=pset, min_=1, max_=2)\n",
    "toolbox.register(\"individual\", tools.initIterate, creator.Individual, toolbox.expr)\n",
    "toolbox.register(\"population\", tools.initRepeat, list, toolbox.individual)\n",
    "toolbox.register(\"compile\", gp.compile, pset=pset)"
   ]
  },
  {
   "cell_type": "markdown",
   "metadata": {},
   "source": [
    "We reinitialized our primitive set and set a seed for randomization to ensure everyone produces the same results. The three primitives we added will be used in our updated evaluation function in the next step."
   ]
  },
  {
   "cell_type": "markdown",
   "metadata": {},
   "source": [
    "Next, we will add another objective to our evaluation function and change the problem into a more difficult one. We will also reinitialize the rest of our toolbox functions. "
   ]
  },
  {
   "cell_type": "code",
   "execution_count": 14,
   "metadata": {},
   "outputs": [],
   "source": [
    "def evalSymbReg(individual, points, pset):\n",
    "    func = gp.compile(expr=individual, pset=pset)\n",
    "    sqerrors = (func(points)-(np.negative(points) + np.sin(points**2) + np.tan(points**3) - np.cos(points)))**2\n",
    "\n",
    "    return (np.sqrt(np.sum(sqerrors) / len(points)), len(individual))\n",
    "\n",
    "\n",
    "toolbox.register(\"evaluate\", evalSymbReg, points=np.linspace(-1, 1, 1000), pset=pset)\n",
    "toolbox.register(\"select\", tools.selTournament, tournsize=3)\n",
    "toolbox.register(\"mate\", gp.cxOnePoint)\n",
    "toolbox.register(\"expr_mut\", gp.genFull, min_=0, max_=2)\n",
    "toolbox.register(\"mutate\", gp.mutUniform, expr=toolbox.expr_mut, pset=pset)\n",
    "\n",
    "toolbox.decorate(\"mate\", gp.staticLimit(key=operator.attrgetter(\"height\"), max_value=17))\n",
    "toolbox.decorate(\"mutate\", gp.staticLimit(key=operator.attrgetter(\"height\"), max_value=17))"
   ]
  },
  {
   "cell_type": "markdown",
   "metadata": {},
   "source": [
    "Our symbolic regression problem has been replaced with a much harder equation to solve. This is designed to show more evolution over time than the previous problem. This problem will not be solved within 100 iterations. We also return the length of the individual tree, which returns the amount of nodes in that individual tree. We will make changes to our evolutionary process to optimize both objectives."
   ]
  },
  {
   "cell_type": "markdown",
   "metadata": {},
   "source": [
    "However, in this example we will first create a visualization of our objective space to help illustrate the pareto dominance we will use later on."
   ]
  },
  {
   "cell_type": "markdown",
   "metadata": {},
   "source": [
    "Next, we will define our pareto dominance function. We will use this function when we visualize our objective space."
   ]
  },
  {
   "cell_type": "code",
   "execution_count": 15,
   "metadata": {},
   "outputs": [],
   "source": [
    "def pareto_dominance(ind1, ind2):\n",
    "    not_equal = False\n",
    "    for value_1, value_2 in zip(ind1.fitness.values, ind2.fitness.values):\n",
    "        if value_1 > value_2:\n",
    "            return False\n",
    "        elif value_1 < value_2:\n",
    "            not_equal = True\n",
    "    return not_equal"
   ]
  },
  {
   "cell_type": "markdown",
   "metadata": {},
   "source": [
    "Our pareto dominance function returns true if the first individual dominates the second individual."
   ]
  },
  {
   "cell_type": "markdown",
   "metadata": {},
   "source": [
    "Next, we will initialize a random population of 300 individuals and initialize one separate individual for comparison."
   ]
  },
  {
   "cell_type": "code",
   "execution_count": 16,
   "metadata": {},
   "outputs": [],
   "source": [
    "pop = toolbox.population(n=300)\n",
    "\n",
    "fitnesses = list(map(toolbox.evaluate, pop))\n",
    "for ind, fit in zip(pop, fitnesses):\n",
    "    ind.fitness.values = fit\n",
    "\n",
    "a_given_individual = toolbox.population(n=1)[0]\n",
    "a_given_individual.fitness.values = toolbox.evaluate(a_given_individual)"
   ]
  },
  {
   "cell_type": "markdown",
   "metadata": {},
   "source": [
    "Next, we will sort our population by pareto dominance in comparison to the separate individual we defined."
   ]
  },
  {
   "cell_type": "code",
   "execution_count": 17,
   "metadata": {},
   "outputs": [],
   "source": [
    "dominated = [ind for ind in pop if pareto_dominance(a_given_individual, ind)]\n",
    "dominators = [ind for ind in pop if pareto_dominance(ind, a_given_individual)]\n",
    "others = [ind for ind in pop if not ind in dominated and not ind in dominators]"
   ]
  },
  {
   "cell_type": "markdown",
   "metadata": {},
   "source": [
    "Next, we will plot our objective space using our sorted population."
   ]
  },
  {
   "cell_type": "code",
   "execution_count": 18,
   "metadata": {},
   "outputs": [
    {
     "data": {
      "image/png": "[encoded data removed]",
      "text/plain": [
       "<Figure size 432x288 with 1 Axes>"
      ]
     },
     "metadata": {
      "needs_background": "light"
     },
     "output_type": "display_data"
    }
   ],
   "source": [
    "for ind in dominators: plt.plot(ind.fitness.values[0], ind.fitness.values[1], 'r.', alpha=0.7)\n",
    "for ind in dominated: plt.plot(ind.fitness.values[0], ind.fitness.values[1], 'g.', alpha=0.7)\n",
    "for ind in others: plt.plot(ind.fitness.values[0], ind.fitness.values[1], 'k.', alpha=0.7, ms=3)\n",
    "plt.plot(a_given_individual.fitness.values[0], a_given_individual.fitness.values[1], 'bo', ms=6);\n",
    "plt.xlabel('Mean Squared Error');plt.ylabel('Tree Size');\n",
    "plt.title('Objective space');\n",
    "plt.tight_layout()\n",
    "plt.show()"
   ]
  },
  {
   "cell_type": "markdown",
   "metadata": {},
   "source": [
    "The blue point is the given individual we set aside and compared all the other individuals to. The black points are uncomparable, the green points are dominated by the given individual, and the red points dominate the given individual."
   ]
  },
  {
   "cell_type": "markdown",
   "metadata": {},
   "source": [
    "We can see in this visualization how the individuals dominating our pareto front are closer to the bottom right because they have the lowest MSE and tree size. Our goal is to minimize both objectives and have an individual as close to the bottom right as possible."
   ]
  },
  {
   "cell_type": "markdown",
   "metadata": {},
   "source": [
    "A more in-depth look at DEAP, pareto fronts, and pareto dominance can be found here: https://github.com/lmarti/evolutionary-computation-course/blob/master/AEC.06%20-%20Evolutionary%20Multi-Objective%20Optimization.ipynb"
   ]
  },
  {
   "cell_type": "markdown",
   "metadata": {},
   "source": [
    "Next, we will define and run the main evolutionary algorithm."
   ]
  },
  {
   "cell_type": "code",
   "execution_count": 19,
   "metadata": {},
   "outputs": [
    {
     "name": "stdout",
     "output_type": "stream",
     "text": [
      "gen\tnevals\tavg                    \tstd                    \tmin                    \tmax                    \n",
      "0  \t50    \t[1.10650195 3.26      ]\t[0.30401178 1.45340978]\t[0.72012608 2.        ]\t[1.55251825 7.        ]\n",
      "1  \t66    \t[0.84741287 3.94      ]\t[0.20331581 1.62984662]\t[0.62937003 1.        ]\t[1.49062507 7.        ]\n",
      "2  \t74    \t[0.73152614 4.26      ]\t[0.03894396 1.43958327]\t[0.62937003 2.        ]\t[0.82078751 7.        ]\n",
      "3  \t65    \t[0.70577647 4.54      ]\t[0.06045703 1.68772036]\t[0.49416153 2.        ]\t[0.82078751 7.        ]\n",
      "4  \t66    \t[0.688637 4.38    ]    \t[0.06643464 1.58606431]\t[0.49416153 3.        ]\t[0.72234418 7.        ]\n",
      "5  \t67    \t[0.66372842 4.72      ]\t[0.07364579 1.51049661]\t[0.49416153 2.        ]\t[0.82078751 7.        ]\n",
      "6  \t71    \t[0.60540029 5.        ]\t[0.08975108 1.42828569]\t[0.38911481 3.        ]\t[0.72234418 8.        ]\n",
      "7  \t66    \t[0.51068731 5.06      ]\t[0.07762804 2.12988263]\t[0.37082423 3.        ]\t[0.72012608 9.        ]\n",
      "8  \t67    \t[0.49007428 5.2       ]\t[0.06396885 2.27156334]\t[0.37082423 3.        ]\t[0.62937003 9.        ]\n",
      "9  \t66    \t[0.45996403 5.68      ]\t[0.089835   2.31896529]\t[0.28500933 3.        ]\t[ 0.88303068 10.        ]\n",
      "10 \t68    \t[0.41805066 5.12      ]\t[0.04713907 2.09418242]\t[0.38082734 3.        ]\t[ 0.49416153 11.        ]\n",
      "11 \t76    \t[0.41019659 5.28      ]\t[0.04599001 2.33272373]\t[0.37082423 3.        ]\t[ 0.52336618 12.        ]\n",
      "12 \t73    \t[0.39557895 5.58      ]\t[0.03916455 2.65397815]\t[0.28500933 3.        ]\t[ 0.49416153 12.        ]\n",
      "13 \t70    \t[0.38081995 7.        ]\t[0.06522358 3.1685959 ]\t[0.28500933 4.        ]\t[ 0.72234418 12.        ]\n",
      "14 \t63    \t[0.35968801 8.08      ]\t[0.04175515 3.16126557]\t[0.28254751 4.        ]\t[ 0.46040496 12.        ]\n",
      "15 \t68    \t[0.35372985 8.96      ]\t[0.04529422 3.12384379]\t[0.28254751 4.        ]\t[ 0.46433071 14.        ]\n",
      "16 \t68    \t[0.33140449 8.94      ]\t[0.05032003 2.92854913]\t[0.28254751 3.        ]\t[ 0.49416153 13.        ]\n",
      "17 \t69    \t[0.30811494 8.86      ]\t[0.05147619 3.00672579]\t[0.28254751 5.        ]\t[ 0.55173768 14.        ]\n",
      "18 \t72    \t[0.29482741 8.44      ]\t[0.01565157 3.00106648]\t[0.28254751 5.        ]\t[ 0.34470821 15.        ]\n",
      "19 \t71    \t[0.29277404 7.92      ]\t[0.01946663 3.46317773]\t[0.28233256 5.        ]\t[ 0.38012098 23.        ]\n",
      "20 \t66    \t[0.29211229 6.84      ]\t[0.03989594 2.8168067 ]\t[0.2807281 5.       ]  \t[ 0.54546414 23.        ]\n",
      "21 \t65    \t[0.28405272 6.6       ]\t[0.00814845 2.55342907]\t[0.2807281 5.       ]  \t[ 0.33968802 23.        ]\n",
      "22 \t75    \t[0.2987562 6.36     ]  \t[0.10318529 1.58442419]\t[0.2807281 1.       ]  \t[ 1.01875976 11.        ]\n",
      "23 \t77    \t[0.29268901 6.7       ]\t[0.05005102 1.73493516]\t[0.2807281 3.       ]  \t[ 0.57492812 11.        ]\n",
      "24 \t64    \t[0.28209995 7.32      ]\t[7.33559740e-04 1.99439214e+00]\t[0.2807281 6.       ]  \t[ 0.28254751 11.        ]\n",
      "25 \t70    \t[0.28277795 8.06      ]\t[0.0063441  2.19462981]        \t[0.2807281 6.       ]  \t[ 0.3268339 12.       ]  \n",
      "26 \t68    \t[0.2815742 9.       ]  \t[1.03141509e-03 2.20000000e+00]\t[0.2807281 6.       ]  \t[ 0.28580027 11.        ]\n",
      "27 \t72    \t[0.28815785 9.96      ]\t[0.0393451  1.85429232]        \t[0.2807281 6.       ]  \t[ 0.55173768 11.        ]\n",
      "28 \t73    \t[ 0.28186781 10.22      ]\t[0.00550392 1.64060964]        \t[0.2807281 6.       ]  \t[ 0.31995146 11.        ]\n",
      "29 \t71    \t[ 0.28830152 10.14      ]\t[0.02927446 1.95969385]        \t[0.2807281 6.       ]  \t[ 0.45962323 15.        ]\n",
      "30 \t72    \t[ 0.28401383 10.62      ]\t[0.01609989 1.52170956]        \t[0.2807281 6.       ]  \t[ 0.39415137 14.        ]\n",
      "31 \t69    \t[ 0.28560467 10.92      ]\t[0.025249   0.79598995]        \t[0.2807281 6.       ]  \t[ 0.46040496 13.        ]\n",
      "32 \t72    \t[ 0.3001658 11.08     ]  \t[0.06170134 1.53414471]        \t[0.2807281 6.       ]  \t[ 0.59523952 19.        ]\n",
      "33 \t78    \t[ 0.28963363 11.46      ]\t[0.03048388 2.17448845]        \t[ 0.27530583 10.        ]\t[ 0.41213493 25.        ]\n",
      "34 \t58    \t[ 0.28597755 11.24      ]\t[0.02782722 2.13129069]        \t[0.27530583 6.        ]  \t[ 0.46040496 25.        ]\n",
      "35 \t66    \t[ 0.29734295 10.98      ]\t[0.06521524 0.31559468]        \t[0.2807281 9.       ]    \t[ 0.55993066 12.        ]\n",
      "36 \t67    \t[ 0.29110298 11.26      ]\t[0.04365932 1.75282629]        \t[0.2807281 6.       ]    \t[ 0.53094695 20.        ]\n",
      "37 \t75    \t[ 0.29565477 11.02      ]\t[0.05278563 2.17706224]        \t[0.2807281 4.       ]    \t[ 0.54834277 24.        ]\n",
      "38 \t66    \t[ 0.29838864 10.82      ]\t[0.05654479 1.33701159]        \t[0.2807281 3.       ]    \t[ 0.54206686 13.        ]\n",
      "39 \t67    \t[ 0.3006438 11.2      ]  \t[0.05886726 1.16619038]        \t[0.2807281 7.       ]    \t[ 0.52987122 16.        ]\n",
      "40 \t65    \t[ 0.30244077 10.76      ]\t[0.10034816 1.56920362]        \t[0.2807281 3.       ]    \t[ 0.94189483 14.        ]\n",
      "41 \t72    \t[ 0.2880221 10.82     ]  \t[0.02380927 1.08977062]        \t[0.2807281 4.       ]    \t[ 0.38510258 13.        ]\n",
      "42 \t77    \t[ 0.28651847 10.8       ]\t[0.03079838 1.16619038]        \t[0.2807281 3.       ]    \t[ 0.49416153 12.        ]\n",
      "43 \t64    \t[ 0.28252116 11.2       ]\t[0.00883379 0.93808315]        \t[ 0.28058792 10.        ]\t[ 0.33968802 17.        ]\n",
      "44 \t80    \t[ 0.29675804 11.02      ]\t[0.0495818 2.0247469]          \t[0.2807281 4.       ]    \t[ 0.55173768 19.        ]\n",
      "45 \t75    \t[ 0.29266732 10.78      ]\t[0.03884077 1.0254755 ]        \t[0.2807281 6.       ]    \t[ 0.46040496 12.        ]\n",
      "46 \t70    \t[ 0.28096561 11.02      ]\t[0.00120981 0.31559468]        \t[ 0.2807281 10.       ]  \t[ 0.2883224 13.       ]  \n",
      "47 \t77    \t[ 0.30089098 10.6       ]\t[0.06175666 1.67332005]        \t[0.2807281 4.       ]    \t[ 0.52987122 13.        ]\n",
      "48 \t78    \t[ 0.28618604 11.06      ]\t[0.0305236  1.71359272]        \t[0.2807281 3.       ]    \t[ 0.49416153 20.        ]\n",
      "49 \t66    \t[ 0.28079991 11.08      ]\t[0.00063848 0.33704599]        \t[ 0.27875238 11.        ]\t[ 0.28430094 13.        ]\n",
      "50 \t71    \t[ 0.28388466 11.08      ]\t[0.01472866 0.39191836]        \t[ 0.27875238 10.        ]\t[ 0.36248211 13.        ]\n"
     ]
    }
   ],
   "source": [
    "NGEN = 50\n",
    "MU = 50\n",
    "LAMBDA = 100\n",
    "CXPB = 0.5\n",
    "MUTPB = 0.2\n",
    "\n",
    "pop = toolbox.population(n=MU)\n",
    "hof = tools.ParetoFront()\n",
    "stats = tools.Statistics(lambda ind: ind.fitness.values)\n",
    "stats.register(\"avg\", np.mean, axis=0)\n",
    "stats.register(\"std\", np.std, axis=0)\n",
    "stats.register(\"min\", np.min, axis=0)\n",
    "stats.register(\"max\", np.max, axis=0)\n",
    "\n",
    "pop, logbook = algorithms.eaMuPlusLambda(pop, toolbox, MU, LAMBDA, CXPB, MUTPB, NGEN, stats,\n",
    "                          halloffame=hof)"
   ]
  },
  {
   "cell_type": "markdown",
   "metadata": {},
   "source": [
    "Now, we will plot the results of our run and display the best individual."
   ]
  },
  {
   "cell_type": "code",
   "execution_count": 20,
   "metadata": {},
   "outputs": [
    {
     "name": "stdout",
     "output_type": "stream",
     "text": [
      "Best individual is: negative(cos(multiply(add(cos(sin(cos(multiply(add(cos(cos(x)), cos(add(multiply(x, x), sin(x)))), tan(x))))), cos(x)), tan(x))))\n",
      "with fitness: (0.27530582924947056, 25.0)\n"
     ]
    },
    {
     "data": {
      "image/png": "[encoded data removed]",
      "text/plain": [
       "<Figure size 432x288 with 1 Axes>"
      ]
     },
     "metadata": {
      "needs_background": "light"
     },
     "output_type": "display_data"
    }
   ],
   "source": [
    "print(\"Best individual is: %s\\nwith fitness: %s\" % (hof[0], hof[0].fitness))\n",
    "gen, avg, min_, max_ = logbook.select(\"gen\", \"avg\", \"min\", \"max\")\n",
    "plt.plot(gen, avg, label=\"average\")\n",
    "plt.plot(gen, min_, label=\"minimum\")\n",
    "plt.xlabel(\"Generation\")\n",
    "plt.ylabel(\"Fitness\")\n",
    "plt.legend(loc=\"upper left\")\n",
    "plt.show()"
   ]
  },
  {
   "cell_type": "markdown",
   "metadata": {},
   "source": [
    "In the graph above, the orange and red plots represent tree size and the blue and green plots represent MSE."
   ]
  },
  {
   "cell_type": "markdown",
   "metadata": {},
   "source": [
    "This time we made use of DEAP's efficient implementations of pareto dominance and evolutionary algorithms. We used DEAP's Mu plus Lambda evolutionary algorithm. This adds two new parameters than the evolutionary loop we are used to, mu and lambda. Mu is the number of individuals to select for the next generation. Lambda is the number of children to produce at each generation."
   ]
  },
  {
   "cell_type": "markdown",
   "metadata": {},
   "source": [
    "In the plot above, we can see two trends. The size of our primitive trees raises over time, and our mean squared error quickly drops to between 0 and 1 within the first few generations."
   ]
  },
  {
   "cell_type": "markdown",
   "metadata": {},
   "source": [
    "However, that plot does not accurately represent how well our population is doing on both objectives. We can use a visualization of our objective space to show our pareto front and accurately represent how well our population is doing on both objectives."
   ]
  },
  {
   "cell_type": "markdown",
   "metadata": {},
   "source": [
    "Next, we will visualize our objective space and pareto front."
   ]
  },
  {
   "cell_type": "code",
   "execution_count": 21,
   "metadata": {},
   "outputs": [
    {
     "data": {
      "image/png": "[encoded data removed]",
      "text/plain": [
       "<Figure size 432x288 with 1 Axes>"
      ]
     },
     "metadata": {
      "needs_background": "light"
     },
     "output_type": "display_data"
    },
    {
     "name": "stdout",
     "output_type": "stream",
     "text": [
      "Area Under Curve: 2.463792426733847\n"
     ]
    }
   ],
   "source": [
    "\"\"\"Split fitness values into separate lists\"\"\"\n",
    "fitness_1 = [ind.fitness.values[0] for ind in hof]\n",
    "fitness_2 = [ind.fitness.values[1] for ind in hof]\n",
    "pop_1 = [ind.fitness.values[0] for ind in pop]\n",
    "pop_2 = [ind.fitness.values[1] for ind in pop]\n",
    "\n",
    "'''Print dominated population for debugging'''\n",
    "# for ind in pop:\n",
    "#     print(ind.fitness)\n",
    "\n",
    "plt.scatter(pop_1, pop_2, color='b')\n",
    "plt.scatter(fitness_1, fitness_2, color='r')\n",
    "plt.plot(fitness_1, fitness_2, color='r', drawstyle='steps-post')\n",
    "plt.xlabel(\"Mean Squared Error\")\n",
    "plt.ylabel(\"Tree Size\")\n",
    "plt.title(\"Pareto Front\")\n",
    "plt.show()\n",
    "\n",
    "f1 = np.array(fitness_1)\n",
    "f2 = np.array(fitness_2)\n",
    "\n",
    "\"\"\"Calculate area under curve with least squares method\"\"\"\n",
    "print(\"Area Under Curve: %s\" % (np.sum(np.abs(np.diff(f1))*f2[:-1])))"
   ]
  },
  {
   "cell_type": "markdown",
   "metadata": {},
   "source": [
    "DEAP's pareto front hall of fame gives us a list of the nondominated individuals after our evolution. We use that list and the last population to visualize our pareto front."
   ]
  },
  {
   "cell_type": "markdown",
   "metadata": {},
   "source": [
    "To measure the performance of our pareto front we use the area under the curve of the pareto front seen in the visualization. The lower our AUC is, the better our pareto front is."
   ]
  },
  {
   "cell_type": "markdown",
   "metadata": {},
   "source": [
    "Implement a version of the genetic programming problem above which produces at least a 25% decrease in the AUC."
   ]
  },
  {
   "cell_type": "code",
   "execution_count": 29,
   "metadata": {},
   "outputs": [
    {
     "name": "stdout",
     "output_type": "stream",
     "text": [
      "gen\tnevals\tavg                    \tstd                    \tmin                    \tmax                    \n",
      "0  \t50    \t[1.13785824 3.32      ]\t[0.36369442 1.56767344]\t[0.72234418 2.        ]\t[2.16610578 7.        ]\n",
      "1  \t66    \t[0.89504033 3.28      ]\t[0.16880161 1.41477913]\t[0.72234418 2.        ]\t[1.49062507 6.        ]\n",
      "2  \t54    \t[0.76910392 3.4       ]\t[0.07237945 1.26491106]\t[0.72012608 2.        ]\t[1.00723482 6.        ]\n",
      "3  \t66    \t[0.72610202 3.5       ]\t[0.01691941 0.85440037]\t[0.72012608 2.        ]\t[0.82078751 6.        ]\n",
      "4  \t63    \t[0.72154723 3.38      ]\t[0.00106266 0.52497619]\t[0.72012608 3.        ]\t[0.72234418 5.        ]\n",
      "5  \t59    \t[0.72083901 3.72      ]\t[0.00103266 0.53065997]\t[0.72012608 3.        ]\t[0.72234418 5.        ]\n",
      "6  \t65    \t[0.7202623 3.98     ]  \t[0.0005262  0.31559468]\t[0.72012608 3.        ]\t[0.72234418 5.        ]\n",
      "7  \t62    \t[0.72012608 4.        ]\t[8.8817842e-16 0.0000000e+00]\t[0.72012608 4.        ]\t[0.72012608 4.        ]\n",
      "8  \t65    \t[0.72012608 4.        ]\t[8.8817842e-16 0.0000000e+00]\t[0.72012608 4.        ]\t[0.72012608 4.        ]\n",
      "9  \t56    \t[0.72017044 3.98      ]\t[0.00031053 0.14      ]      \t[0.72012608 3.        ]\t[0.72234418 4.        ]\n",
      "10 \t47    \t[0.72012608 4.        ]\t[8.8817842e-16 0.0000000e+00]\t[0.72012608 4.        ]\t[0.72012608 4.        ]\n",
      "11 \t54    \t[0.71910203 4.08      ]\t[0.00716836 0.56      ]      \t[0.66892347 4.        ]\t[0.72012608 8.        ]\n",
      "12 \t58    \t[0.71910203 4.08      ]\t[0.00716836 0.56      ]      \t[0.66892347 4.        ]\t[0.72012608 8.        ]\n",
      "13 \t62    \t[0.71498167 4.42      ]\t[0.01543398 1.26633329]      \t[0.66771617 4.        ]\t[0.72012608 9.        ]\n",
      "14 \t57    \t[0.70676511 5.08      ]\t[0.02254178 1.8312837 ]      \t[0.66771617 4.        ]\t[0.72012608 9.        ]\n",
      "15 \t64    \t[0.69871667 5.7       ]\t[0.02518035 2.01246118]      \t[0.66771617 4.        ]\t[0.72012608 9.        ]\n",
      "16 \t61    \t[0.68188367 7.        ]\t[0.02179619 1.83303028]      \t[0.66771617 3.        ]\t[0.72234418 9.        ]\n",
      "17 \t66    \t[0.67300127 8.08      ]\t[0.01125397 1.45382255]      \t[0.66771617 3.        ]\t[ 0.72234418 13.        ]\n",
      "18 \t62    \t[0.66853624 8.42      ]\t[0.0012361  0.53254108]      \t[0.66771617 7.        ]\t[0.67612262 9.        ]  \n",
      "19 \t45    \t[0.66829692 8.76      ]\t[0.00142091 0.76315136]      \t[0.66771617 8.        ]\t[ 0.67743684 13.        ]\n",
      "20 \t59    \t[0.66786104 8.88      ]\t[0.00039233 0.32496154]      \t[0.66771617 8.        ]\t[0.66892347 9.        ]  \n",
      "21 \t55    \t[0.66774031 8.98      ]\t[0.00016902 0.14      ]      \t[0.66771617 8.        ]\t[0.66892347 9.        ]  \n",
      "22 \t60    \t[0.66880873 8.88      ]\t[0.00764792 0.84      ]      \t[0.66771617 3.        ]\t[0.72234418 9.        ]  \n",
      "23 \t64    \t[0.66904415 9.06      ]\t[0.00738088 1.1208925 ]      \t[0.66771617 4.        ]\t[ 0.72012608 15.        ]\n",
      "24 \t61    \t[0.66774458 9.02      ]\t[0.00019888 0.14      ]      \t[0.66771617 9.        ]\t[ 0.66913671 10.        ]\n",
      "25 \t71    \t[0.66771617 9.        ]\t[3.33066907e-16 0.00000000e+00]\t[0.66771617 9.        ]\t[0.66771617 9.        ]  \n"
     ]
    },
    {
     "data": {
      "image/png": "[encoded data removed]",
      "text/plain": [
       "<Figure size 432x288 with 1 Axes>"
      ]
     },
     "metadata": {
      "needs_background": "light"
     },
     "output_type": "display_data"
    },
    {
     "name": "stdout",
     "output_type": "stream",
     "text": [
      "Area Under Curve: 1.0245630989777628\n"
     ]
    }
   ],
   "source": [
    "NGEN = 25\n",
    "MU = 50\n",
    "LAMBDA = 100\n",
    "CXPB = 0.5\n",
    "MUTPB = 0.1\n",
    "\n",
    "pop = toolbox.population(n=MU)\n",
    "hof = tools.ParetoFront()\n",
    "stats = tools.Statistics(lambda ind: ind.fitness.values)\n",
    "stats.register(\"avg\", np.mean, axis=0)\n",
    "stats.register(\"std\", np.std, axis=0)\n",
    "stats.register(\"min\", np.min, axis=0)\n",
    "stats.register(\"max\", np.max, axis=0)\n",
    "\n",
    "pop, logbook = algorithms.eaMuPlusLambda(pop, toolbox, MU, LAMBDA, CXPB, MUTPB, NGEN, stats,\n",
    "                          halloffame=hof)\n",
    "\n",
    "\"\"\"Split fitness values into separate lists\"\"\"\n",
    "fitness_1 = [ind.fitness.values[0] for ind in hof]\n",
    "fitness_2 = [ind.fitness.values[1] for ind in hof]\n",
    "pop_1 = [ind.fitness.values[0] for ind in pop]\n",
    "pop_2 = [ind.fitness.values[1] for ind in pop]\n",
    "\n",
    "'''Print dominated population for debugging'''\n",
    "# for ind in pop:\n",
    "#     print(ind.fitness)\n",
    "\n",
    "plt.scatter(pop_1, pop_2, color='b')\n",
    "plt.scatter(fitness_1, fitness_2, color='r')\n",
    "plt.plot(fitness_1, fitness_2, color='r', drawstyle='steps-post')\n",
    "plt.xlabel(\"Mean Squared Error\")\n",
    "plt.ylabel(\"Tree Size\")\n",
    "plt.title(\"Pareto Front\")\n",
    "plt.show()\n",
    "\n",
    "f1 = np.array(fitness_1)\n",
    "f2 = np.array(fitness_2)\n",
    "\n",
    "\"\"\"Calculate area under curve with least squares method\"\"\"\n",
    "print(\"Area Under Curve: %s\" % (np.sum(np.abs(np.diff(f1))*f2[:-1])))"
   ]
  },
  {
   "cell_type": "markdown",
   "metadata": {},
   "source": [
    "# Strongly Typed Genetic Programming"
   ]
  },
  {
   "cell_type": "markdown",
   "metadata": {},
   "source": [
    "## Note: You are not required to run the code in this section"
   ]
  },
  {
   "cell_type": "markdown",
   "metadata": {},
   "source": [
    "In this section we will highlight more features of DEAP and genetic programming."
   ]
  },
  {
   "cell_type": "markdown",
   "metadata": {},
   "source": [
    "Documentation: http://deap.readthedocs.io/en/master/tutorials/advanced/gp.html"
   ]
  },
  {
   "cell_type": "code",
   "execution_count": 22,
   "metadata": {},
   "outputs": [
    {
     "ename": "NameError",
     "evalue": "name 'PrimitiveSetTyped' is not defined",
     "output_type": "error",
     "traceback": [
      "\u001b[0;31m---------------------------------------------------------------------------\u001b[0m",
      "\u001b[0;31mNameError\u001b[0m                                 Traceback (most recent call last)",
      "\u001b[0;32m<ipython-input-22-a5eae54a66f1>\u001b[0m in \u001b[0;36m<module>\u001b[0;34m\u001b[0m\n\u001b[1;32m      2\u001b[0m     \u001b[0;32mreturn\u001b[0m \u001b[0moutput1\u001b[0m \u001b[0;32mif\u001b[0m \u001b[0minput\u001b[0m \u001b[0;32melse\u001b[0m \u001b[0moutput2\u001b[0m\u001b[0;34m\u001b[0m\u001b[0;34m\u001b[0m\u001b[0m\n\u001b[1;32m      3\u001b[0m \u001b[0;34m\u001b[0m\u001b[0m\n\u001b[0;32m----> 4\u001b[0;31m \u001b[0mpset\u001b[0m \u001b[0;34m=\u001b[0m \u001b[0mPrimitiveSetTyped\u001b[0m\u001b[0;34m(\u001b[0m\u001b[0;34m\"main\"\u001b[0m\u001b[0;34m,\u001b[0m \u001b[0;34m[\u001b[0m\u001b[0mbool\u001b[0m\u001b[0;34m,\u001b[0m \u001b[0mfloat\u001b[0m\u001b[0;34m]\u001b[0m\u001b[0;34m,\u001b[0m \u001b[0mfloat\u001b[0m\u001b[0;34m)\u001b[0m\u001b[0;34m\u001b[0m\u001b[0;34m\u001b[0m\u001b[0m\n\u001b[0m\u001b[1;32m      5\u001b[0m \u001b[0mpset\u001b[0m\u001b[0;34m.\u001b[0m\u001b[0maddPrimitive\u001b[0m\u001b[0;34m(\u001b[0m\u001b[0moperator\u001b[0m\u001b[0;34m.\u001b[0m\u001b[0mxor\u001b[0m\u001b[0;34m,\u001b[0m \u001b[0;34m[\u001b[0m\u001b[0mbool\u001b[0m\u001b[0;34m,\u001b[0m \u001b[0mbool\u001b[0m\u001b[0;34m]\u001b[0m\u001b[0;34m,\u001b[0m \u001b[0mbool\u001b[0m\u001b[0;34m)\u001b[0m\u001b[0;34m\u001b[0m\u001b[0;34m\u001b[0m\u001b[0m\n\u001b[1;32m      6\u001b[0m \u001b[0mpset\u001b[0m\u001b[0;34m.\u001b[0m\u001b[0maddPrimitive\u001b[0m\u001b[0;34m(\u001b[0m\u001b[0moperator\u001b[0m\u001b[0;34m.\u001b[0m\u001b[0mmul\u001b[0m\u001b[0;34m,\u001b[0m \u001b[0;34m[\u001b[0m\u001b[0mfloat\u001b[0m\u001b[0;34m,\u001b[0m \u001b[0mfloat\u001b[0m\u001b[0;34m]\u001b[0m\u001b[0;34m,\u001b[0m \u001b[0mfloat\u001b[0m\u001b[0;34m)\u001b[0m\u001b[0;34m\u001b[0m\u001b[0;34m\u001b[0m\u001b[0m\n",
      "\u001b[0;31mNameError\u001b[0m: name 'PrimitiveSetTyped' is not defined"
     ]
    }
   ],
   "source": [
    "def if_then_else(input, output1, output2):\n",
    "    return output1 if input else output2\n",
    "\n",
    "pset = PrimitiveSetTyped(\"main\", [bool, float], float)\n",
    "pset.addPrimitive(operator.xor, [bool, bool], bool)\n",
    "pset.addPrimitive(operator.mul, [float, float], float)\n",
    "pset.addPrimitive(if_then_else, [bool, float, float], float)\n",
    "pset.addTerminal(3.0, float)\n",
    "pset.addTerminal(1, bool)\n",
    "\n",
    "pset.renameArguments(ARG0=\"x\")\n",
    "pset.renameArguments(ARG1=\"y\")"
   ]
  },
  {
   "cell_type": "markdown",
   "metadata": {},
   "source": [
    "In the code above, we defined strongly typed primitives and terminals. Terminals are pre-defined constants for our individuals."
   ]
  },
  {
   "cell_type": "markdown",
   "metadata": {},
   "source": [
    "First, we defined our strongly typed primitive set with the PrimitiveSetTyped() method. The first argument defines the name of the primitive set. The second argument defines the input (leaf) nodes of each individual tree, and the third argument defines the output of each individual tree. In this case our leaf nodes consist of Booleans and floats put together."
   ]
  },
  {
   "cell_type": "markdown",
   "metadata": {},
   "source": [
    "Adding primitives follows the same structure of defining inputs and then outputs. For terminals, we define the value of the terminal and then its type."
   ]
  },
  {
   "cell_type": "markdown",
   "metadata": {},
   "source": [
    "<img src=\"files/images/trees.png\">"
   ]
  },
  {
   "cell_type": "markdown",
   "metadata": {},
   "source": [
    "The tree above on the left is a valid tree based on the primitive set we defined.\n",
    "The tree on the right is invalid because XOR is given a float not equal to 1 or 0 instead of a Boolean value.\n",
    "\n",
    "We have to be careful to not define primitives and terminals our trees cannot produce. This will lead to errors when we evolve our population."
   ]
  },
  {
   "cell_type": "markdown",
   "metadata": {},
   "source": [
    "## Ephemeral Constants"
   ]
  },
  {
   "cell_type": "markdown",
   "metadata": {},
   "source": [
    "Ephermeral constants are terminals generated by a function instead of pre-defined values."
   ]
  },
  {
   "cell_type": "code",
   "execution_count": null,
   "metadata": {},
   "outputs": [],
   "source": [
    "pset.addEphemeralConstant(lambda: random.randint(-10, 10), int)"
   ]
  },
  {
   "cell_type": "markdown",
   "metadata": {},
   "source": [
    "## Bloat Control"
   ]
  },
  {
   "cell_type": "markdown",
   "metadata": {},
   "source": [
    "The last thing we will cover is limiting tree size and bloat control. DEAP trees can only have a maximum depth of 91 due to limitations in Python's parser. There are also many examples of GP problems where individuals bloat over time and increase in size."
   ]
  },
  {
   "cell_type": "code",
   "execution_count": null,
   "metadata": {},
   "outputs": [],
   "source": [
    "toolbox.decorate(\"mate\", gp.staticLimit(key=operator.attrgetter(\"height\"), max_value=17))\n",
    "toolbox.decorate(\"mutate\", gp.staticLimit(key=operator.attrgetter(\"height\"), max_value=17))"
   ]
  },
  {
   "cell_type": "markdown",
   "metadata": {},
   "source": [
    "To prevent this, we can use static limits like the code shown above, set an objective to minimize tree size, and modify our evaluation function to give bloated trees worse fitness values."
   ]
  }
 ],
 "metadata": {
  "kernelspec": {
   "display_name": "Python 3",
   "language": "python",
   "name": "python3"
  },
  "language_info": {
   "codemirror_mode": {
    "name": "ipython",
    "version": 3
   },
   "file_extension": ".py",
   "mimetype": "text/x-python",
   "name": "python",
   "nbconvert_exporter": "python",
   "pygments_lexer": "ipython3",
   "version": "3.7.3"
  }
 },
 "nbformat": 4,
 "nbformat_minor": 2
}
