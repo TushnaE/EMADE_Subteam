{
 "cells": [
  {
   "cell_type": "code",
   "execution_count": 1,
   "metadata": {},
   "outputs": [
    {
     "name": "stdout",
     "output_type": "stream",
     "text": [
      "Populating the interactive namespace from numpy and matplotlib\n"
     ]
    }
   ],
   "source": [
    "%pylab inline\n",
    "# Pandas is a nice utilitiy that enables some easy data manipulation, especially from a csv\n",
    "import pandas as pd\n",
    "# Numpy lets us work with arrays\n",
    "import numpy as np\n",
    "# Sklearn provides various modules with a common API\n",
    "from sklearn import svm, tree, neighbors, neural_network\n",
    "from sklearn.model_selection import train_test_split\n",
    "from sklearn.metrics import confusion_matrix\n",
    "from sklearn.ensemble import RandomForestClassifier\n",
    "from sklearn.datasets import make_classification\n",
    "from sklearn.linear_model import LinearRegression\n",
    "from sklearn.naive_bayes import GaussianNB"
   ]
  },
  {
   "cell_type": "code",
   "execution_count": 2,
   "metadata": {},
   "outputs": [],
   "source": [
    "# Read in our csv files downloaded from Kaggle\n",
    "train_data = pd.read_csv('train.csv')\n",
    "test_data = pd.read_csv('test.csv')"
   ]
  },
  {
   "cell_type": "code",
   "execution_count": 3,
   "metadata": {},
   "outputs": [
    {
     "data": {
      "text/html": [
       "<div>\n",
       "<style scoped>\n",
       "    .dataframe tbody tr th:only-of-type {\n",
       "        vertical-align: middle;\n",
       "    }\n",
       "\n",
       "    .dataframe tbody tr th {\n",
       "        vertical-align: top;\n",
       "    }\n",
       "\n",
       "    .dataframe thead th {\n",
       "        text-align: right;\n",
       "    }\n",
       "</style>\n",
       "<table border=\"1\" class=\"dataframe\">\n",
       "  <thead>\n",
       "    <tr style=\"text-align: right;\">\n",
       "      <th></th>\n",
       "      <th>PassengerId</th>\n",
       "      <th>Survived</th>\n",
       "      <th>Pclass</th>\n",
       "      <th>Name</th>\n",
       "      <th>Sex</th>\n",
       "      <th>Age</th>\n",
       "      <th>SibSp</th>\n",
       "      <th>Parch</th>\n",
       "      <th>Ticket</th>\n",
       "      <th>Fare</th>\n",
       "      <th>Cabin</th>\n",
       "      <th>Embarked</th>\n",
       "    </tr>\n",
       "  </thead>\n",
       "  <tbody>\n",
       "    <tr>\n",
       "      <th>0</th>\n",
       "      <td>1</td>\n",
       "      <td>0</td>\n",
       "      <td>3</td>\n",
       "      <td>Braund, Mr. Owen Harris</td>\n",
       "      <td>male</td>\n",
       "      <td>22.0</td>\n",
       "      <td>1</td>\n",
       "      <td>0</td>\n",
       "      <td>A/5 21171</td>\n",
       "      <td>7.2500</td>\n",
       "      <td>NaN</td>\n",
       "      <td>S</td>\n",
       "    </tr>\n",
       "    <tr>\n",
       "      <th>1</th>\n",
       "      <td>2</td>\n",
       "      <td>1</td>\n",
       "      <td>1</td>\n",
       "      <td>Cumings, Mrs. John Bradley (Florence Briggs Th...</td>\n",
       "      <td>female</td>\n",
       "      <td>38.0</td>\n",
       "      <td>1</td>\n",
       "      <td>0</td>\n",
       "      <td>PC 17599</td>\n",
       "      <td>71.2833</td>\n",
       "      <td>C85</td>\n",
       "      <td>C</td>\n",
       "    </tr>\n",
       "    <tr>\n",
       "      <th>2</th>\n",
       "      <td>3</td>\n",
       "      <td>1</td>\n",
       "      <td>3</td>\n",
       "      <td>Heikkinen, Miss. Laina</td>\n",
       "      <td>female</td>\n",
       "      <td>26.0</td>\n",
       "      <td>0</td>\n",
       "      <td>0</td>\n",
       "      <td>STON/O2. 3101282</td>\n",
       "      <td>7.9250</td>\n",
       "      <td>NaN</td>\n",
       "      <td>S</td>\n",
       "    </tr>\n",
       "    <tr>\n",
       "      <th>3</th>\n",
       "      <td>4</td>\n",
       "      <td>1</td>\n",
       "      <td>1</td>\n",
       "      <td>Futrelle, Mrs. Jacques Heath (Lily May Peel)</td>\n",
       "      <td>female</td>\n",
       "      <td>35.0</td>\n",
       "      <td>1</td>\n",
       "      <td>0</td>\n",
       "      <td>113803</td>\n",
       "      <td>53.1000</td>\n",
       "      <td>C123</td>\n",
       "      <td>S</td>\n",
       "    </tr>\n",
       "    <tr>\n",
       "      <th>4</th>\n",
       "      <td>5</td>\n",
       "      <td>0</td>\n",
       "      <td>3</td>\n",
       "      <td>Allen, Mr. William Henry</td>\n",
       "      <td>male</td>\n",
       "      <td>35.0</td>\n",
       "      <td>0</td>\n",
       "      <td>0</td>\n",
       "      <td>373450</td>\n",
       "      <td>8.0500</td>\n",
       "      <td>NaN</td>\n",
       "      <td>S</td>\n",
       "    </tr>\n",
       "  </tbody>\n",
       "</table>\n",
       "</div>"
      ],
      "text/plain": [
       "   PassengerId  Survived  Pclass  \\\n",
       "0            1         0       3   \n",
       "1            2         1       1   \n",
       "2            3         1       3   \n",
       "3            4         1       1   \n",
       "4            5         0       3   \n",
       "\n",
       "                                                Name     Sex   Age  SibSp  \\\n",
       "0                            Braund, Mr. Owen Harris    male  22.0      1   \n",
       "1  Cumings, Mrs. John Bradley (Florence Briggs Th...  female  38.0      1   \n",
       "2                             Heikkinen, Miss. Laina  female  26.0      0   \n",
       "3       Futrelle, Mrs. Jacques Heath (Lily May Peel)  female  35.0      1   \n",
       "4                           Allen, Mr. William Henry    male  35.0      0   \n",
       "\n",
       "   Parch            Ticket     Fare Cabin Embarked  \n",
       "0      0         A/5 21171   7.2500   NaN        S  \n",
       "1      0          PC 17599  71.2833   C85        C  \n",
       "2      0  STON/O2. 3101282   7.9250   NaN        S  \n",
       "3      0            113803  53.1000  C123        S  \n",
       "4      0            373450   8.0500   NaN        S  "
      ]
     },
     "execution_count": 3,
     "metadata": {},
     "output_type": "execute_result"
    }
   ],
   "source": [
    "# We can use .head() to get just the first few rows of the data.\n",
    "train_data.head()\n",
    "# Note how the notebook nicely displays the output for us"
   ]
  },
  {
   "cell_type": "code",
   "execution_count": 4,
   "metadata": {},
   "outputs": [
    {
     "data": {
      "text/html": [
       "<div>\n",
       "<style scoped>\n",
       "    .dataframe tbody tr th:only-of-type {\n",
       "        vertical-align: middle;\n",
       "    }\n",
       "\n",
       "    .dataframe tbody tr th {\n",
       "        vertical-align: top;\n",
       "    }\n",
       "\n",
       "    .dataframe thead th {\n",
       "        text-align: right;\n",
       "    }\n",
       "</style>\n",
       "<table border=\"1\" class=\"dataframe\">\n",
       "  <thead>\n",
       "    <tr style=\"text-align: right;\">\n",
       "      <th></th>\n",
       "      <th>PassengerId</th>\n",
       "      <th>Pclass</th>\n",
       "      <th>Name</th>\n",
       "      <th>Sex</th>\n",
       "      <th>Age</th>\n",
       "      <th>SibSp</th>\n",
       "      <th>Parch</th>\n",
       "      <th>Ticket</th>\n",
       "      <th>Fare</th>\n",
       "      <th>Cabin</th>\n",
       "      <th>Embarked</th>\n",
       "    </tr>\n",
       "  </thead>\n",
       "  <tbody>\n",
       "    <tr>\n",
       "      <th>0</th>\n",
       "      <td>892</td>\n",
       "      <td>3</td>\n",
       "      <td>Kelly, Mr. James</td>\n",
       "      <td>male</td>\n",
       "      <td>34.5</td>\n",
       "      <td>0</td>\n",
       "      <td>0</td>\n",
       "      <td>330911</td>\n",
       "      <td>7.8292</td>\n",
       "      <td>NaN</td>\n",
       "      <td>Q</td>\n",
       "    </tr>\n",
       "    <tr>\n",
       "      <th>1</th>\n",
       "      <td>893</td>\n",
       "      <td>3</td>\n",
       "      <td>Wilkes, Mrs. James (Ellen Needs)</td>\n",
       "      <td>female</td>\n",
       "      <td>47.0</td>\n",
       "      <td>1</td>\n",
       "      <td>0</td>\n",
       "      <td>363272</td>\n",
       "      <td>7.0000</td>\n",
       "      <td>NaN</td>\n",
       "      <td>S</td>\n",
       "    </tr>\n",
       "    <tr>\n",
       "      <th>2</th>\n",
       "      <td>894</td>\n",
       "      <td>2</td>\n",
       "      <td>Myles, Mr. Thomas Francis</td>\n",
       "      <td>male</td>\n",
       "      <td>62.0</td>\n",
       "      <td>0</td>\n",
       "      <td>0</td>\n",
       "      <td>240276</td>\n",
       "      <td>9.6875</td>\n",
       "      <td>NaN</td>\n",
       "      <td>Q</td>\n",
       "    </tr>\n",
       "    <tr>\n",
       "      <th>3</th>\n",
       "      <td>895</td>\n",
       "      <td>3</td>\n",
       "      <td>Wirz, Mr. Albert</td>\n",
       "      <td>male</td>\n",
       "      <td>27.0</td>\n",
       "      <td>0</td>\n",
       "      <td>0</td>\n",
       "      <td>315154</td>\n",
       "      <td>8.6625</td>\n",
       "      <td>NaN</td>\n",
       "      <td>S</td>\n",
       "    </tr>\n",
       "    <tr>\n",
       "      <th>4</th>\n",
       "      <td>896</td>\n",
       "      <td>3</td>\n",
       "      <td>Hirvonen, Mrs. Alexander (Helga E Lindqvist)</td>\n",
       "      <td>female</td>\n",
       "      <td>22.0</td>\n",
       "      <td>1</td>\n",
       "      <td>1</td>\n",
       "      <td>3101298</td>\n",
       "      <td>12.2875</td>\n",
       "      <td>NaN</td>\n",
       "      <td>S</td>\n",
       "    </tr>\n",
       "  </tbody>\n",
       "</table>\n",
       "</div>"
      ],
      "text/plain": [
       "   PassengerId  Pclass                                          Name     Sex  \\\n",
       "0          892       3                              Kelly, Mr. James    male   \n",
       "1          893       3              Wilkes, Mrs. James (Ellen Needs)  female   \n",
       "2          894       2                     Myles, Mr. Thomas Francis    male   \n",
       "3          895       3                              Wirz, Mr. Albert    male   \n",
       "4          896       3  Hirvonen, Mrs. Alexander (Helga E Lindqvist)  female   \n",
       "\n",
       "    Age  SibSp  Parch   Ticket     Fare Cabin Embarked  \n",
       "0  34.5      0      0   330911   7.8292   NaN        Q  \n",
       "1  47.0      1      0   363272   7.0000   NaN        S  \n",
       "2  62.0      0      0   240276   9.6875   NaN        Q  \n",
       "3  27.0      0      0   315154   8.6625   NaN        S  \n",
       "4  22.0      1      1  3101298  12.2875   NaN        S  "
      ]
     },
     "execution_count": 4,
     "metadata": {},
     "output_type": "execute_result"
    }
   ],
   "source": [
    "test_data.head()"
   ]
  },
  {
   "cell_type": "code",
   "execution_count": 5,
   "metadata": {},
   "outputs": [
    {
     "data": {
      "text/plain": [
       "['Age', 'Cabin', 'Embarked']"
      ]
     },
     "execution_count": 5,
     "metadata": {},
     "output_type": "execute_result"
    }
   ],
   "source": [
    "train_data.columns[train_data.isna().any()].tolist()"
   ]
  },
  {
   "cell_type": "code",
   "execution_count": 6,
   "metadata": {},
   "outputs": [
    {
     "name": "stdout",
     "output_type": "stream",
     "text": [
      "             Pclass  Sex   Age  SibSp  Child  MaleClassOne  MaleClassTwo  \\\n",
      "PassengerId                                                                \n",
      "8                 0    0   2.0      4      1             1             0   \n",
      "766               5    1  51.0      1      0             0             0   \n",
      "340               5    0  45.0      0      0             0             0   \n",
      "375               0    1   3.0      4      1             0             0   \n",
      "184               2    0   1.0      3      1             0             0   \n",
      "\n",
      "             MaleClassThree  FemaleClassOne  FemaleClassTwo  FemaleClassThree  \n",
      "PassengerId                                                                    \n",
      "8                         0               0               0                 0  \n",
      "766                       0               0               0                 0  \n",
      "340                       0               0               0                 0  \n",
      "375                       0               1               0                 0  \n",
      "184                       1               0               0                 0  \n",
      "PassengerId\n",
      "8      0\n",
      "766    1\n",
      "340    0\n",
      "375    0\n",
      "184    1\n",
      "Name: Survived, dtype: int64\n",
      "             Pclass  Sex   Age  SibSp  Child  MaleClassOne  MaleClassTwo  \\\n",
      "PassengerId                                                                \n",
      "892               0    0  34.5      0      0             1             0   \n",
      "893               0    1  47.0      1      0             0             0   \n",
      "894               2    0  62.0      0      0             0             0   \n",
      "895               0    0  27.0      0      0             1             0   \n",
      "896               0    1  22.0      2      0             0             0   \n",
      "\n",
      "             MaleClassThree  FemaleClassOne  FemaleClassTwo  FemaleClassThree  \n",
      "PassengerId                                                                    \n",
      "892                       0               0               0                 0  \n",
      "893                       0               1               0                 0  \n",
      "894                       1               0               0                 0  \n",
      "895                       0               0               0                 0  \n",
      "896                       0               1               0                 0  \n"
     ]
    }
   ],
   "source": [
    "train_data [\"SibSp\"] = train_data[\"SibSp\"] + train_data[\"Parch\"]\n",
    "test_data[\"SibSp\"] = test_data[\"SibSp\"] + test_data[\"Parch\"]\n",
    "train_data [\"Child\"] = np.where((train_data[\"Age\"] < 14), 1, 0)\n",
    "test_data [\"Child\"] = np.where((test_data[\"Age\"] < 14), 1, 0)\n",
    "#train_data [\"Elderly\"] = np.where((train_data[\"Age\"] >55 ), 1, 0)\n",
    "#test_data [\"Elderly\"] = np.where((test_data[\"Age\"] >55 ), 1, 0)\n",
    "#train_data [\"Baby\"] = np.where((train_data[\"Age\"] <5 ), 1, 0)\n",
    "#test_data [\"Baby\"] = np.where((test_data[\"Age\"] <5 ), 1, 0)\n",
    "\n",
    "\n",
    "train_data.drop(columns=['Name', 'Ticket', 'Cabin',  'Fare', 'Embarked', \"Parch\"], inplace=True)\n",
    "train_data.set_index(keys=['PassengerId'], drop=True, inplace=True)\n",
    "\n",
    "test_data.drop(columns=['Name', 'Ticket', 'Cabin', 'Fare', 'Embarked', \"Parch\"], inplace=True)\n",
    "test_data.set_index(keys=['PassengerId'], drop=True, inplace=True)\n",
    "#'Fare': train_data['Fare'].mean(),\n",
    "#,  'Embarked': train_data['Embarked'].mode()[0]\n",
    "train_nan_map = {'Age': train_data['Age'].mean()}\n",
    "test_nan_map = {'Age': test_data['Age'].mean()}\n",
    "\n",
    "train_data.fillna(value=train_nan_map, inplace=True)\n",
    "test_data.fillna(value=test_nan_map, inplace=True)\n",
    "#'Embarked': {'C': 1, 'Q': 2, 'S': 3},\n",
    "columns_map = { 'Pclass' : {1:5, 3:0},'Sex': {'male': 0, 'female': 1}}\n",
    "train_data.replace(columns_map, inplace=True)\n",
    "test_data.replace(columns_map, inplace=True)\n",
    "\n",
    "\n",
    "train_data [\"MaleClassOne\"] = np.where(((train_data[\"Pclass\"] == 0) & (train_data[\"Sex\"] == 0)), 1, 0)\n",
    "test_data [\"MaleClassOne\"] = np.where(((test_data[\"Pclass\"] == 0) & (test_data[\"Sex\"] == 0)), 1, 0)\n",
    "\n",
    "train_data [\"MaleClassTwo\"] = np.where(((train_data[\"Pclass\"] == 1) & (train_data[\"Sex\"] == 0)), 1, 0)\n",
    "test_data [\"MaleClassTwo\"] = np.where(((test_data[\"Pclass\"] == 1) & (test_data[\"Sex\"] == 0)), 1, 0)\n",
    "\n",
    "train_data [\"MaleClassThree\"] = np.where(((train_data[\"Pclass\"] == 2) & (train_data[\"Sex\"] == 0)), 1, 0)\n",
    "test_data [\"MaleClassThree\"] = np.where(((test_data[\"Pclass\"] == 2) & (test_data[\"Sex\"] == 0)), 1, 0)\n",
    "\n",
    "train_data [\"FemaleClassOne\"] = np.where(((train_data[\"Pclass\"] == 0) & (train_data[\"Sex\"] == 1)), 1, 0)\n",
    "test_data [\"FemaleClassOne\"] = np.where(((test_data[\"Pclass\"] == 0) & (test_data[\"Sex\"] == 1)), 1, 0)\n",
    "\n",
    "train_data [\"FemaleClassTwo\"] = np.where(((train_data[\"Pclass\"] == 1) & (train_data[\"Sex\"] == 1)), 1, 0)\n",
    "test_data [\"FemaleClassTwo\"] = np.where(((test_data[\"Pclass\"] == 1) & (test_data[\"Sex\"] == 1)), 1, 0)\n",
    "\n",
    "train_data [\"FemaleClassThree\"] = np.where(((train_data[\"Pclass\"] == 2) & (train_data[\"Sex\"] == 1)), 1, 0)\n",
    "test_data [\"FemaleClassThree\"] = np.where(((test_data[\"Pclass\"] == 2) & (test_data[\"Sex\"] == 1)), 1, 0)\n",
    "\n",
    "X_train = train_data.loc[:, train_data.columns != 'Survived']\n",
    "y_train = train_data.loc[:, 'Survived']\n",
    "\n",
    "X_train, X_test, y_train, y_test = train_test_split(X_train, y_train, test_size=0.3, random_state=10)\n",
    "\n",
    "print(X_train.head())\n",
    "print(y_train.head())\n",
    "print(test_data.head())"
   ]
  },
  {
   "cell_type": "code",
   "execution_count": 7,
   "metadata": {},
   "outputs": [],
   "source": [
    "train_data.columns[train_data.isna().any()].tolist()\n",
    "#train_data[train_data['Embarked'].isna() == True]\n",
    "#train_data['Embarked']\n",
    "#test_data.columns[test_data.isna().any()].tolist()\n",
    "xlist = []\n",
    "ylist = []"
   ]
  },
  {
   "cell_type": "code",
   "execution_count": 8,
   "metadata": {
    "scrolled": true
   },
   "outputs": [
    {
     "name": "stdout",
     "output_type": "stream",
     "text": [
      "0.7947761194029851\n",
      "[0.3069306930693069]\n",
      "[0.1437125748502994]\n"
     ]
    }
   ],
   "source": [
    "gnb = GaussianNB()\n",
    "gnb.fit(X_train.values, y_train.values)\n",
    "print(gnb.score(X_test.values, y_test.values))\n",
    "y_pred = gnb.predict(X_test.values)\n",
    "y_truth = y_test.values\n",
    "tn, fp, fn, tp = confusion_matrix(y_truth, y_pred).ravel()\n",
    "xlist.append(fp/(fp + tp))\n",
    "ylist.append(fn/(fn + tn))\n",
    "print(xlist)\n",
    "print(ylist)"
   ]
  },
  {
   "cell_type": "code",
   "execution_count": 9,
   "metadata": {},
   "outputs": [
    {
     "name": "stdout",
     "output_type": "stream",
     "text": [
      "0.8283582089552238\n",
      "[0.3069306930693069]\n",
      "[0.1437125748502994]\n"
     ]
    }
   ],
   "source": [
    "tree_clf = tree.DecisionTreeClassifier()\n",
    "tree_clf.fit(X_train.values, y_train.values)\n",
    "print(tree_clf.score(X_test.values, y_test.values))\n",
    "\n",
    "y_pred = tree_clf.predict(X_test.values)\n",
    "y_truth = y_test.values\n",
    "tn, fp, fn, tp = confusion_matrix(y_truth, y_pred).ravel()\n",
    "#xlist.append(fp/(fp + tp))\n",
    "#ylist.append(fn/(fn + tn))\n",
    "print(xlist)\n",
    "print(ylist)"
   ]
  },
  {
   "cell_type": "code",
   "execution_count": 10,
   "metadata": {},
   "outputs": [
    {
     "name": "stdout",
     "output_type": "stream",
     "text": [
      "0.7649253731343284\n",
      "[0.3069306930693069, 0.3402061855670103]\n",
      "[0.1437125748502994, 0.17543859649122806]\n"
     ]
    }
   ],
   "source": [
    "knn_clf = neighbors.KNeighborsClassifier()\n",
    "knn_clf.fit(X_train.values, y_train.values)\n",
    "print(knn_clf.score(X_test.values, y_test.values))\n",
    "y_pred = knn_clf.predict(X_test.values)\n",
    "y_truth = y_test.values\n",
    "tn, fp, fn, tp = confusion_matrix(y_truth, y_pred).ravel()\n",
    "xlist.append(fp/(fp + tp))\n",
    "ylist.append(fn/(fn + tn))\n",
    "print(xlist)\n",
    "print(ylist)"
   ]
  },
  {
   "cell_type": "code",
   "execution_count": 11,
   "metadata": {},
   "outputs": [
    {
     "name": "stdout",
     "output_type": "stream",
     "text": [
      "0.832089552238806\n",
      "[0.3069306930693069, 0.3402061855670103, 0.23076923076923078]\n",
      "[0.1437125748502994, 0.17543859649122806, 0.13559322033898305]\n"
     ]
    },
    {
     "name": "stderr",
     "output_type": "stream",
     "text": [
      "/Users/brandonsu/anaconda3/lib/python3.7/site-packages/sklearn/neural_network/multilayer_perceptron.py:566: ConvergenceWarning: Stochastic Optimizer: Maximum iterations (200) reached and the optimization hasn't converged yet.\n",
      "  % self.max_iter, ConvergenceWarning)\n"
     ]
    }
   ],
   "source": [
    "NN_clf = neural_network.MLPClassifier()\n",
    "NN_clf.fit(X_train.values, y_train.values)\n",
    "print(NN_clf.score(X_test.values, y_test.values))\n",
    "y_pred = NN_clf.predict(X_test.values)\n",
    "y_truth = y_test.values\n",
    "tn, fp, fn, tp = confusion_matrix(y_truth, y_pred).ravel()\n",
    "xlist.append(fp/(fp + tp))\n",
    "ylist.append(fn/(fn + tn))\n",
    "print(xlist)\n",
    "print(ylist)"
   ]
  },
  {
   "cell_type": "code",
   "execution_count": 12,
   "metadata": {},
   "outputs": [
    {
     "name": "stdout",
     "output_type": "stream",
     "text": [
      "0.8097014925373134\n",
      "[0.3069306930693069, 0.3402061855670103, 0.23076923076923078]\n",
      "[0.1437125748502994, 0.17543859649122806, 0.13559322033898305]\n"
     ]
    }
   ],
   "source": [
    "RF_clf = RandomForestClassifier(n_estimators=100, max_depth=2, random_state=0)\n",
    "RF_clf.fit(X_train.values, y_train.values)\n",
    "print(RF_clf.score(X_test.values, y_test.values))\n",
    "y_pred = RF_clf.predict(X_test.values)\n",
    "y_truth = y_test.values\n",
    "tn, fp, fn, tp = confusion_matrix(y_truth, y_pred).ravel()\n",
    "#xlist.append(fp/(fp + tp))\n",
    "#ylist.append(fn/(fn + tn))\n",
    "print(xlist)\n",
    "print(ylist)"
   ]
  },
  {
   "cell_type": "code",
   "execution_count": 13,
   "metadata": {},
   "outputs": [],
   "source": [
    "# LR_clf = LinearRegression()\n",
    "# LR_clf.fit(X_train.values, y_train.values)\n",
    "# print(LR_clf.score(X_test.values, y_test.values))\n",
    "# y_pred = LR_clf.predict(X_test.values)\n",
    "# y_truth = y_test.values\n",
    "# tn, fp, fn, tp = confusion_matrix(y_truth, y_pred).ravel()\n",
    "# xlist.append(fp/(fp + tp))\n",
    "# ylist.append(fn/(fn + tn))"
   ]
  },
  {
   "cell_type": "code",
   "execution_count": 14,
   "metadata": {},
   "outputs": [
    {
     "name": "stdout",
     "output_type": "stream",
     "text": [
      "0.8134328358208955\n",
      "[0.3069306930693069, 0.3402061855670103, 0.23076923076923078]\n",
      "[0.1437125748502994, 0.17543859649122806, 0.13559322033898305]\n"
     ]
    }
   ],
   "source": [
    "svm_clf = svm.SVC(kernel='linear')\n",
    "svm_clf.fit(X_train.values, y_train.values)\n",
    "print(svm_clf.score(X_test.values, y_test.values))\n",
    "y_pred = svm_clf.predict(X_test.values)\n",
    "y_truth = y_test.values\n",
    "tn, fp, fn, tp = confusion_matrix(y_truth, y_pred).ravel()\n",
    "#xlist.append(fp/(fp + tp))\n",
    "#ylist.append(fn/(fn + tn))\n",
    "print(xlist)\n",
    "print(ylist)"
   ]
  },
  {
   "cell_type": "code",
   "execution_count": 15,
   "metadata": {},
   "outputs": [
    {
     "name": "stdout",
     "output_type": "stream",
     "text": [
      "0.8432835820895522\n",
      "[0.3069306930693069, 0.3402061855670103, 0.23076923076923078, 0.18292682926829268]\n",
      "[0.1437125748502994, 0.17543859649122806, 0.13559322033898305, 0.14516129032258066]\n"
     ]
    }
   ],
   "source": [
    "from sklearn.neural_network import MLPClassifier\n",
    "\n",
    "mlp_clf = MLPClassifier(solver='lbfgs', alpha=1e-5, hidden_layer_sizes=(5, 2), random_state=5)\n",
    "mlp_clf.fit(X_train.values, y_train.values)\n",
    "print(mlp_clf.score(X_test.values, y_test.values))\n",
    "y_pred = mlp_clf.predict(X_test.values)\n",
    "y_truth = y_test.values\n",
    "tn, fp, fn, tp = confusion_matrix(y_truth, y_pred).ravel()\n",
    "xlist.append(fp/(fp + tp))\n",
    "ylist.append(fn/(fn + tn))\n",
    "print(xlist)\n",
    "print(ylist)"
   ]
  },
  {
   "cell_type": "code",
   "execution_count": 16,
   "metadata": {},
   "outputs": [
    {
     "name": "stdout",
     "output_type": "stream",
     "text": [
      "0.4291044776119403\n",
      "[0.3069306930693069, 0.3402061855670103, 0.23076923076923078, 0.18292682926829268, 0.6224066390041494]\n",
      "[0.1437125748502994, 0.17543859649122806, 0.13559322033898305, 0.14516129032258066, 0.1111111111111111]\n"
     ]
    },
    {
     "name": "stderr",
     "output_type": "stream",
     "text": [
      "/Users/brandonsu/anaconda3/lib/python3.7/site-packages/sklearn/linear_model/stochastic_gradient.py:561: ConvergenceWarning: Maximum number of iteration reached before convergence. Consider increasing max_iter to improve the fit.\n",
      "  ConvergenceWarning)\n"
     ]
    }
   ],
   "source": [
    "from sklearn.linear_model import SGDClassifier\n",
    "\n",
    "sgd_clf = SGDClassifier(loss=\"hinge\", penalty=\"l2\", max_iter=10)\n",
    "sgd_clf.fit(X_train.values, y_train.values)\n",
    "print(sgd_clf.score(X_test.values, y_test.values))\n",
    "y_pred = sgd_clf.predict(X_test.values)\n",
    "y_truth = y_test.values\n",
    "tn, fp, fn, tp = confusion_matrix(y_truth, y_pred).ravel()\n",
    "xlist.append(fp/(fp + tp))\n",
    "ylist.append(fn/(fn + tn))\n",
    "print(xlist)\n",
    "print(ylist)   "
   ]
  },
  {
   "cell_type": "code",
   "execution_count": 17,
   "metadata": {},
   "outputs": [
    {
     "name": "stdout",
     "output_type": "stream",
     "text": [
      "Confusion Matrix\n",
      "[[ 24 150]\n",
      " [  3  91]]\n",
      "\n",
      "True Negatives 24\n",
      "False Positives 150\n",
      "False Negatives 3\n",
      "True Positives 91\n"
     ]
    }
   ],
   "source": [
    "tn, fp, fn, tp = confusion_matrix(y_truth, y_pred).ravel()\n",
    "print(\"Confusion Matrix\")\n",
    "print(confusion_matrix(y_truth, y_pred, labels=[0, 1]))\n",
    "print(\"\")\n",
    "print(\"True Negatives\", tn)\n",
    "print(\"False Positives\", fp)\n",
    "print(\"False Negatives\", fn)\n",
    "print(\"True Positives\", tp)"
   ]
  },
  {
   "cell_type": "code",
   "execution_count": 18,
   "metadata": {},
   "outputs": [],
   "source": [
    "y_pred_tree = mlp_clf.predict(X_test.values)\n",
    "y_truth_tree = y_test.values"
   ]
  },
  {
   "cell_type": "code",
   "execution_count": 19,
   "metadata": {},
   "outputs": [
    {
     "name": "stdout",
     "output_type": "stream",
     "text": [
      "Confusion matrix, without normalization\n",
      "[[ 24 150]\n",
      " [  3  91]]\n"
     ]
    },
    {
     "data": {
      "image/png": "[encoded data removed]",
      "text/plain": [
       "<Figure size 432x288 with 2 Axes>"
      ]
     },
     "metadata": {
      "needs_background": "light"
     },
     "output_type": "display_data"
    }
   ],
   "source": [
    "import itertools\n",
    "import matplotlib.pyplot as plt\n",
    "\n",
    "def plot_confusion_matrix(cm, classes,\n",
    "                          normalize=False,\n",
    "                          title='Confusion matrix',\n",
    "                          cmap=plt.cm.Blues):\n",
    "    \"\"\"\n",
    "    This function prints and plots the confusion matrix.\n",
    "    Normalization can be applied by setting `normalize=True`.\n",
    "    \"\"\"\n",
    "    if normalize:\n",
    "        cm = cm.astype('float') / cm.sum(axis=1)[:, np.newaxis]\n",
    "        print(\"Normalized confusion matrix\")\n",
    "    else:\n",
    "        print('Confusion matrix, without normalization')\n",
    "\n",
    "    print(cm)\n",
    "\n",
    "    plt.imshow(cm, interpolation='nearest', cmap=cmap)\n",
    "    plt.title(title)\n",
    "    plt.colorbar()\n",
    "    tick_marks = np.arange(len(classes))\n",
    "    plt.xticks(tick_marks, classes, rotation=45)\n",
    "    plt.yticks(tick_marks, classes)\n",
    "\n",
    "    fmt = '.2f' if normalize else 'd'\n",
    "    thresh = cm.max() / 2.\n",
    "    for i, j in itertools.product(range(cm.shape[0]), range(cm.shape[1])):\n",
    "        plt.text(j, i, format(cm[i, j], fmt),\n",
    "                 horizontalalignment=\"center\",\n",
    "                 color=\"white\" if cm[i, j] > thresh else \"black\")\n",
    "\n",
    "    plt.ylabel('True label')\n",
    "    plt.xlabel('Predicted label')\n",
    "    plt.tight_layout()\n",
    "\n",
    "\n",
    "# Compute confusion matrix\n",
    "cnf_matrix = confusion_matrix(y_truth, y_pred)\n",
    "class_names=['0', '1']\n",
    "np.set_printoptions(precision=2)\n",
    "\n",
    "# Plot non-normalized confusion matrix\n",
    "plt.figure()\n",
    "plot_confusion_matrix(cnf_matrix, classes=class_names,\n",
    "                      title='Confusion matrix, without normalization')\n",
    "\n",
    "plt.show()"
   ]
  },
  {
   "cell_type": "code",
   "execution_count": 20,
   "metadata": {},
   "outputs": [],
   "source": [
    "predictions = knn_clf.predict(test_data.values)"
   ]
  },
  {
   "cell_type": "code",
   "execution_count": 21,
   "metadata": {},
   "outputs": [
    {
     "data": {
      "text/plain": [
       "numpy.ndarray"
      ]
     },
     "execution_count": 21,
     "metadata": {},
     "output_type": "execute_result"
    }
   ],
   "source": [
    "type(predictions)"
   ]
  },
  {
   "cell_type": "code",
   "execution_count": 22,
   "metadata": {},
   "outputs": [
    {
     "data": {
      "text/plain": [
       "pandas.core.frame.DataFrame"
      ]
     },
     "execution_count": 22,
     "metadata": {},
     "output_type": "execute_result"
    }
   ],
   "source": [
    "pred_df = pd.DataFrame(predictions, index=test_data.index, columns=['Survived'])\n",
    "type(pred_df)"
   ]
  },
  {
   "cell_type": "code",
   "execution_count": 23,
   "metadata": {},
   "outputs": [],
   "source": [
    "pred_df.to_csv('predictions.csv', header=True, sep=',')"
   ]
  },
  {
   "cell_type": "code",
   "execution_count": 24,
   "metadata": {},
   "outputs": [
    {
     "name": "stdout",
     "output_type": "stream",
     "text": [
      "[0.3069306930693069, 0.3402061855670103, 0.23076923076923078, 0.18292682926829268, 0.6224066390041494]\n",
      "[0.1437125748502994, 0.17543859649122806, 0.13559322033898305, 0.14516129032258066, 0.1111111111111111]\n"
     ]
    }
   ],
   "source": [
    "print(xlist)\n",
    "print(ylist)"
   ]
  },
  {
   "cell_type": "code",
   "execution_count": 25,
   "metadata": {
    "scrolled": true
   },
   "outputs": [
    {
     "data": {
      "image/png": "[encoded data removed]",
      "text/plain": [
       "<Figure size 432x288 with 1 Axes>"
      ]
     },
     "metadata": {
      "needs_background": "light"
     },
     "output_type": "display_data"
    }
   ],
   "source": [
    "# index = xlist.index(min(xlist))\n",
    "# xlist.remove(min(xlist))\n",
    "# print(xlist)\n",
    "# print(ylist)\n",
    "# del ylist[index]\n",
    "plt.scatter(ylist, xlist)\n",
    "plt.plot(ylist, xlist, color='r', drawstyle='steps-post')\n",
    "plt.xlabel(\"False Negative Rate\")\n",
    "plt.ylabel(\"False Positive Rate\")\n",
    "plt.title(\"Titanic ML Project Pareto Front\")\n",
    "plt.show()"
   ]
  },
  {
   "cell_type": "code",
   "execution_count": 26,
   "metadata": {},
   "outputs": [],
   "source": [
    "\n",
    "import random\n",
    "import operator\n",
    "\n",
    "import numpy as np\n",
    "import matplotlib.pyplot as plt\n",
    "\n",
    "from deap import algorithms\n",
    "from deap import base\n",
    "from deap import creator\n",
    "from deap import tools\n",
    "from deap import gp"
   ]
  },
  {
   "cell_type": "code",
   "execution_count": 27,
   "metadata": {},
   "outputs": [],
   "source": [
    "creator.create(\"FitnessMin\", base.Fitness, weights=(-1.0,-1.0))\n",
    "creator.create(\"Individual\", gp.PrimitiveTree, fitness=creator.FitnessMin)"
   ]
  },
  {
   "cell_type": "code",
   "execution_count": 28,
   "metadata": {},
   "outputs": [],
   "source": [
    "random.seed(25)\n",
    "df = X_train.astype('object')\n",
    "pset = gp.PrimitiveSetTyped(\"MAIN\", [type(df[col][1]) for col in df], int, \"IN\")\n",
    "#pset = gp.PrimitiveSet(\"MAIN\", arity=1)\n",
    "pset.addPrimitive(np.add, [float,float], float)\n",
    "pset.addPrimitive(np.subtract, [float,float], float)\n",
    "pset.addPrimitive(np.multiply, [float,float], float)\n",
    "#pset.addPrimitive(np.negative, arity=1)\n",
    "#pset.addPrimitive(np.divide, [float,float], float)\n",
    "pset.addPrimitive(np.logical_and, [int, int], int)\n",
    "pset.addPrimitive(np.logical_or, [int, int], int)\n",
    "pset.addPrimitive(np.logical_not, [int], int)\n",
    "pset.renameArguments(ARG0='x')"
   ]
  },
  {
   "cell_type": "code",
   "execution_count": 29,
   "metadata": {},
   "outputs": [],
   "source": [
    "toolbox = base.Toolbox()\n",
    "toolbox.register(\"expr\", gp.genHalfAndHalf, pset=pset, min_=1, max_=2)\n",
    "toolbox.register(\"individual\", tools.initIterate, creator.Individual, toolbox.expr)\n",
    "toolbox.register(\"population\", tools.initRepeat, list, toolbox.individual)\n",
    "toolbox.register(\"compile\", gp.compile, pset=pset)"
   ]
  },
  {
   "cell_type": "code",
   "execution_count": 30,
   "metadata": {},
   "outputs": [],
   "source": [
    "def evalSymbReg(individual, points, pset):\n",
    "    func = toolbox.compile(expr=individual)\n",
    "    truepositives = sum((bool(func(*data)) is True and bool(func(*data)) is bool(survived)) for data, survived in zip(X_train.values, y_train.values))\n",
    "    #print (\"True Pos: \" + str(truepositives))\n",
    "    falsepositives = sum((bool(func(*data)) is True and bool(func(*data)) is not bool(survived)) for data, survived in zip(X_train.values, y_train.values))\n",
    "    #print (\"False Pos: \" + str(falsepositives))\n",
    "    truenegatives = sum((bool(func(*data)) is not True and bool(func(*data)) is bool(survived)) for data, survived in zip(X_train.values, y_train.values))\n",
    "    #print (\"True Neg: \" + str(truenegatives))\n",
    "    falsenegatives = sum((bool(func(*data)) is not True and bool(func(*data)) is not bool(survived)) for data, survived in zip(X_train.values, y_train.values))\n",
    "    #print (\"False Neg: \" + str(falsenegatives))\n",
    "    \n",
    "    #print (\"\\n\\n\")\n",
    "    if truenegatives+falsenegatives == 0:\n",
    "        return (0,(falsepositives/(truepositives + falsepositives)))\n",
    "    if truepositives + falsepositives==0:\n",
    "        return ((falsenegatives/(truenegatives + falsenegatives)),0)\n",
    "    \n",
    "    #(np.sqrt(np.sum(sqerrors) / len(points)),)\n",
    "    return ((falsenegatives/(truenegatives + falsenegatives)),(falsepositives/(truepositives + falsepositives)))\n",
    "\n",
    "toolbox.register(\"evaluate\", evalSymbReg, points=np.linspace(-1, 1, 1000), pset=pset)\n",
    "toolbox.register(\"select\", tools.selBest)\n",
    "toolbox.register(\"mate\", gp.cxOnePoint)\n",
    "toolbox.register(\"expr_mut\", gp.genFull, min_=0, max_=2)\n",
    "toolbox.register(\"mutate\", gp.mutUniform, expr=toolbox.expr_mut, pset=pset)\n",
    "\n",
    "toolbox.decorate(\"mate\", gp.staticLimit(key=operator.attrgetter(\"height\"), max_value=17))\n",
    "toolbox.decorate(\"mutate\", gp.staticLimit(key=operator.attrgetter(\"height\"), max_value=17))"
   ]
  },
  {
   "cell_type": "code",
   "execution_count": 31,
   "metadata": {},
   "outputs": [],
   "source": [
    "def pareto_dominance(ind1, ind2):\n",
    "    not_equal = False\n",
    "    for value_1, value_2 in zip(ind1.fitness.values, ind2.fitness.values):\n",
    "        if value_1 > value_2:\n",
    "            return False\n",
    "        elif value_1 < value_2:\n",
    "            not_equal = True\n",
    "    return not_equal"
   ]
  },
  {
   "cell_type": "code",
   "execution_count": 32,
   "metadata": {},
   "outputs": [
    {
     "name": "stderr",
     "output_type": "stream",
     "text": [
      "/Users/brandonsu/anaconda3/lib/python3.7/site-packages/ipykernel_launcher.py:3: DeprecationWarning: Calling np.sum(generator) is deprecated, and in the future will give a different result. Use np.sum(np.fromiter(generator)) or the python sum builtin instead.\n",
      "  This is separate from the ipykernel package so we can avoid doing imports until\n",
      "/Users/brandonsu/anaconda3/lib/python3.7/site-packages/ipykernel_launcher.py:5: DeprecationWarning: Calling np.sum(generator) is deprecated, and in the future will give a different result. Use np.sum(np.fromiter(generator)) or the python sum builtin instead.\n",
      "  \"\"\"\n",
      "/Users/brandonsu/anaconda3/lib/python3.7/site-packages/ipykernel_launcher.py:7: DeprecationWarning: Calling np.sum(generator) is deprecated, and in the future will give a different result. Use np.sum(np.fromiter(generator)) or the python sum builtin instead.\n",
      "  import sys\n",
      "/Users/brandonsu/anaconda3/lib/python3.7/site-packages/ipykernel_launcher.py:9: DeprecationWarning: Calling np.sum(generator) is deprecated, and in the future will give a different result. Use np.sum(np.fromiter(generator)) or the python sum builtin instead.\n",
      "  if __name__ == '__main__':\n"
     ]
    }
   ],
   "source": [
    "pop = toolbox.population(  n=300)\n",
    "\n",
    "fitnesses = list(map(toolbox.evaluate, pop))\n",
    "for ind, fit in zip(pop, fitnesses):\n",
    "    ind.fitness.values = fit\n",
    "\n",
    "a_given_individual = toolbox.population(n=1)[0]\n",
    "a_given_individual.fitness.values = toolbox.evaluate(a_given_individual)"
   ]
  },
  {
   "cell_type": "code",
   "execution_count": 33,
   "metadata": {},
   "outputs": [],
   "source": [
    "dominated = [ind for ind in pop if pareto_dominance(a_given_individual, ind)]\n",
    "dominators = [ind for ind in pop if pareto_dominance(ind, a_given_individual)]\n",
    "others = [ind for ind in pop if not ind in dominated and not ind in dominators]"
   ]
  },
  {
   "cell_type": "code",
   "execution_count": 34,
   "metadata": {},
   "outputs": [],
   "source": [
    "# for ind in dominators: plt.plot(ind.fitness.values[0], ind.fitness.values[1], 'r.', alpha=0.7)\n",
    "# for ind in dominated: plt.plot(ind.fitness.values[0], ind.fitness.values[1], 'g.', alpha=0.7)\n",
    "# for ind in others: plt.plot(ind.fitness.values[0], ind.fitness.values[1], 'k.', alpha=0.7, ms=3)\n",
    "# plt.plot(a_given_individual.fitness.values[0], a_given_individual.fitness.values[1], 'bo', ms=6);\n",
    "# plt.xlabel('Mean Squared Error');plt.ylabel('Tree Size');\n",
    "# plt.title('Objective space');\n",
    "# plt.tight_layout()\n",
    "# plt.show()"
   ]
  },
  {
   "cell_type": "code",
   "execution_count": 35,
   "metadata": {},
   "outputs": [
    {
     "name": "stderr",
     "output_type": "stream",
     "text": [
      "/Users/brandonsu/anaconda3/lib/python3.7/site-packages/ipykernel_launcher.py:3: DeprecationWarning: Calling np.sum(generator) is deprecated, and in the future will give a different result. Use np.sum(np.fromiter(generator)) or the python sum builtin instead.\n",
      "  This is separate from the ipykernel package so we can avoid doing imports until\n",
      "/Users/brandonsu/anaconda3/lib/python3.7/site-packages/ipykernel_launcher.py:5: DeprecationWarning: Calling np.sum(generator) is deprecated, and in the future will give a different result. Use np.sum(np.fromiter(generator)) or the python sum builtin instead.\n",
      "  \"\"\"\n",
      "/Users/brandonsu/anaconda3/lib/python3.7/site-packages/ipykernel_launcher.py:7: DeprecationWarning: Calling np.sum(generator) is deprecated, and in the future will give a different result. Use np.sum(np.fromiter(generator)) or the python sum builtin instead.\n",
      "  import sys\n",
      "/Users/brandonsu/anaconda3/lib/python3.7/site-packages/ipykernel_launcher.py:9: DeprecationWarning: Calling np.sum(generator) is deprecated, and in the future will give a different result. Use np.sum(np.fromiter(generator)) or the python sum builtin instead.\n",
      "  if __name__ == '__main__':\n"
     ]
    },
    {
     "name": "stdout",
     "output_type": "stream",
     "text": [
      "gen\tnevals\tavg        \tstd        \tmin    \tmax        \n",
      "0  \t50    \t[0.42 0.46]\t[0.2  0.27]\t[0. 0.]\t[0.89 0.85]\n",
      "1  \t67    \t[0.22 0.41]\t[0.09 0.15]\t[0.   0.11]\t[0.36 0.6 ]\n",
      "2  \t69    \t[0.13 0.51]\t[0.06 0.07]\t[0.   0.42]\t[0.18 0.6 ]\n",
      "3  \t70    \t[0.08 0.53]\t[0.08 0.07]\t[0.   0.46]\t[0.15 0.6 ]\n",
      "4  \t63    \t[0.  0.6]  \t[0.00e+00 2.22e-16]\t[0.  0.6]  \t[0.  0.6]  \n",
      "5  \t71    \t[0.  0.6]  \t[0.00e+00 2.22e-16]\t[0.  0.6]  \t[0.  0.6]  \n",
      "6  \t68    \t[0.  0.6]  \t[0.00e+00 2.22e-16]\t[0.  0.6]  \t[0.  0.6]  \n",
      "7  \t66    \t[0.  0.6]  \t[0.00e+00 2.22e-16]\t[0.  0.6]  \t[0.  0.6]  \n",
      "8  \t71    \t[0.  0.6]  \t[0.00e+00 2.22e-16]\t[0.  0.6]  \t[0.  0.6]  \n",
      "9  \t71    \t[0.  0.6]  \t[0.00e+00 2.22e-16]\t[0.  0.6]  \t[0.  0.6]  \n",
      "10 \t62    \t[0.  0.6]  \t[0.00e+00 2.22e-16]\t[0.  0.6]  \t[0.  0.6]  \n",
      "11 \t59    \t[0.  0.6]  \t[0.00e+00 2.22e-16]\t[0.  0.6]  \t[0.  0.6]  \n",
      "12 \t69    \t[0.  0.6]  \t[0.00e+00 2.22e-16]\t[0.  0.6]  \t[0.  0.6]  \n",
      "13 \t60    \t[0.  0.6]  \t[0.00e+00 2.22e-16]\t[0.  0.6]  \t[0.  0.6]  \n",
      "14 \t70    \t[0.  0.6]  \t[0.00e+00 2.22e-16]\t[0.  0.6]  \t[0.  0.6]  \n",
      "15 \t67    \t[0.  0.6]  \t[0.00e+00 2.22e-16]\t[0.  0.6]  \t[0.  0.6]  \n",
      "16 \t69    \t[0.  0.6]  \t[0.00e+00 2.22e-16]\t[0.  0.6]  \t[0.  0.6]  \n",
      "17 \t73    \t[0.  0.6]  \t[0.00e+00 2.22e-16]\t[0.  0.6]  \t[0.  0.6]  \n",
      "18 \t68    \t[0.  0.6]  \t[0.00e+00 2.22e-16]\t[0.  0.6]  \t[0.  0.6]  \n",
      "19 \t69    \t[0.  0.6]  \t[0.00e+00 2.22e-16]\t[0.  0.6]  \t[0.  0.6]  \n",
      "20 \t71    \t[0.  0.6]  \t[0.00e+00 2.22e-16]\t[0.  0.6]  \t[0.  0.6]  \n",
      "21 \t73    \t[0.  0.6]  \t[0.00e+00 2.22e-16]\t[0.  0.6]  \t[0.  0.6]  \n",
      "22 \t70    \t[0.  0.6]  \t[0.00e+00 2.22e-16]\t[0.  0.6]  \t[0.  0.6]  \n",
      "23 \t76    \t[0.  0.6]  \t[0.00e+00 2.22e-16]\t[0.  0.6]  \t[0.  0.6]  \n",
      "24 \t65    \t[0.  0.6]  \t[0.00e+00 2.22e-16]\t[0.  0.6]  \t[0.  0.6]  \n",
      "25 \t72    \t[0.  0.6]  \t[0.00e+00 2.22e-16]\t[0.  0.6]  \t[0.  0.6]  \n",
      "26 \t74    \t[0.  0.6]  \t[0.00e+00 2.22e-16]\t[0.  0.6]  \t[0.  0.6]  \n",
      "27 \t73    \t[0.  0.6]  \t[0.00e+00 2.22e-16]\t[0.  0.6]  \t[0.  0.6]  \n",
      "28 \t71    \t[0.  0.6]  \t[0.00e+00 2.22e-16]\t[0.  0.6]  \t[0.  0.6]  \n",
      "29 \t76    \t[0.  0.6]  \t[0.00e+00 2.22e-16]\t[0.  0.6]  \t[0.  0.6]  \n",
      "30 \t76    \t[0.  0.6]  \t[0.00e+00 2.22e-16]\t[0.  0.6]  \t[0.  0.6]  \n",
      "31 \t63    \t[0.  0.6]  \t[0.00e+00 2.22e-16]\t[0.  0.6]  \t[0.  0.6]  \n",
      "32 \t63    \t[0.  0.6]  \t[0.00e+00 2.22e-16]\t[0.  0.6]  \t[0.  0.6]  \n",
      "33 \t68    \t[0.  0.6]  \t[0.00e+00 2.22e-16]\t[0.  0.6]  \t[0.  0.6]  \n",
      "34 \t68    \t[0.  0.6]  \t[0.00e+00 2.22e-16]\t[0.  0.6]  \t[0.  0.6]  \n",
      "35 \t72    \t[0.  0.6]  \t[0.00e+00 2.22e-16]\t[0.  0.6]  \t[0.  0.6]  \n",
      "36 \t78    \t[0.  0.6]  \t[0.00e+00 2.22e-16]\t[0.  0.6]  \t[0.  0.6]  \n",
      "37 \t67    \t[0.  0.6]  \t[0.00e+00 2.22e-16]\t[0.  0.6]  \t[0.  0.6]  \n",
      "38 \t70    \t[0.  0.6]  \t[0.00e+00 2.22e-16]\t[0.  0.6]  \t[0.  0.6]  \n",
      "39 \t75    \t[0.  0.6]  \t[0.00e+00 2.22e-16]\t[0.  0.6]  \t[0.  0.6]  \n",
      "40 \t63    \t[0.  0.6]  \t[0.00e+00 2.22e-16]\t[0.  0.6]  \t[0.  0.6]  \n",
      "41 \t61    \t[0.  0.6]  \t[0.00e+00 2.22e-16]\t[0.  0.6]  \t[0.  0.6]  \n",
      "42 \t72    \t[0.  0.6]  \t[0.00e+00 2.22e-16]\t[0.  0.6]  \t[0.  0.6]  \n",
      "43 \t74    \t[0.  0.6]  \t[0.00e+00 2.22e-16]\t[0.  0.6]  \t[0.  0.6]  \n",
      "44 \t68    \t[0.  0.6]  \t[0.00e+00 2.22e-16]\t[0.  0.6]  \t[0.  0.6]  \n",
      "45 \t69    \t[0.  0.6]  \t[0.00e+00 2.22e-16]\t[0.  0.6]  \t[0.  0.6]  \n",
      "46 \t65    \t[0.  0.6]  \t[0.00e+00 2.22e-16]\t[0.  0.6]  \t[0.  0.6]  \n",
      "47 \t71    \t[0.  0.6]  \t[0.00e+00 2.22e-16]\t[0.  0.6]  \t[0.  0.6]  \n",
      "48 \t56    \t[0.  0.6]  \t[0.00e+00 2.22e-16]\t[0.  0.6]  \t[0.  0.6]  \n",
      "49 \t69    \t[0.  0.6]  \t[0.00e+00 2.22e-16]\t[0.  0.6]  \t[0.  0.6]  \n",
      "50 \t66    \t[0.  0.6]  \t[0.00e+00 2.22e-16]\t[0.  0.6]  \t[0.  0.6]  \n"
     ]
    }
   ],
   "source": [
    "NGEN = 50\n",
    "MU = 50\n",
    "LAMBDA = 100\n",
    "CXPB = 0.5\n",
    "MUTPB = 0.2\n",
    "\n",
    "pop = toolbox.population(n=MU)\n",
    "hof = tools.ParetoFront()\n",
    "stats = tools.Statistics(lambda ind: ind.fitness.values)\n",
    "stats.register(\"avg\", np.mean, axis=0)\n",
    "stats.register(\"std\", np.std, axis=0)\n",
    "stats.register(\"min\", np.min, axis=0)\n",
    "stats.register(\"max\", np.max, axis=0)\n",
    "\n",
    "pop, logbook = algorithms.eaMuPlusLambda(pop, toolbox, MU, LAMBDA, CXPB, MUTPB, NGEN, stats,\n",
    "                          halloffame=hof)"
   ]
  },
  {
   "cell_type": "code",
   "execution_count": 36,
   "metadata": {},
   "outputs": [
    {
     "name": "stdout",
     "output_type": "stream",
     "text": [
      "Best individual is: logical_or(logical_not(IN1), logical_or(logical_and(logical_or(IN0, IN1), logical_not(IN8)), IN1))\n",
      "with fitness: (0.0, 0.6019261637239165)\n"
     ]
    },
    {
     "data": {
      "image/png": "[encoded data removed]",
      "text/plain": [
       "<Figure size 432x288 with 1 Axes>"
      ]
     },
     "metadata": {
      "needs_background": "light"
     },
     "output_type": "display_data"
    }
   ],
   "source": [
    "print(\"Best individual is: %s\\nwith fitness: %s\" % (hof[0], hof[0].fitness))\n",
    "gen, avg, min_, max_ = logbook.select(\"gen\", \"avg\", \"min\", \"max\")\n",
    "plt.plot(gen, avg, label=\"average\")\n",
    "plt.plot(gen, min_, label=\"minimum\")\n",
    "plt.xlabel(\"Generation\")\n",
    "plt.ylabel(\"Fitness\")\n",
    "plt.legend(loc=\"upper left\")\n",
    "plt.show()"
   ]
  },
  {
   "cell_type": "code",
   "execution_count": 37,
   "metadata": {},
   "outputs": [
    {
     "data": {
      "image/png": "[encoded data removed]",
      "text/plain": [
       "<Figure size 432x288 with 1 Axes>"
      ]
     },
     "metadata": {
      "needs_background": "light"
     },
     "output_type": "display_data"
    },
    {
     "name": "stdout",
     "output_type": "stream",
     "text": [
      "Area Under Curve: 0.12988087232811915\n"
     ]
    }
   ],
   "source": [
    "\"\"\"Split fitness values into separate lists\"\"\"\n",
    "fitness_1 = [ind.fitness.values[0] for ind in hof]\n",
    "fitness_2 = [ind.fitness.values[1] for ind in hof]\n",
    "pop_1 = [ind.fitness.values[0] for ind in pop]\n",
    "pop_2 = [ind.fitness.values[1] for ind in pop]\n",
    "\n",
    "'''Print dominated population for debugging'''\n",
    "# for ind in pop:\n",
    "#     print(ind.fitness)\n",
    "\n",
    "plt.scatter(pop_1, pop_2, color='b')\n",
    "plt.scatter(fitness_1, fitness_2, color='r')\n",
    "plt.plot(fitness_1, fitness_2, color='r', drawstyle='steps-post')\n",
    "plt.xlabel(\"Mean Squared Error\")\n",
    "plt.ylabel(\"Tree Size\")\n",
    "plt.title(\"Pareto Front\")\n",
    "plt.show()\n",
    "\n",
    "f1 = np.array(fitness_1)\n",
    "f2 = np.array(fitness_2)\n",
    "\n",
    "\"\"\"Calculate area under curve with least squares method\"\"\"\n",
    "print(\"Area Under Curve: %s\" % (np.sum(np.abs(np.diff(f1))*f2[:-1])))"
   ]
  },
  {
   "cell_type": "code",
   "execution_count": null,
   "metadata": {},
   "outputs": [],
   "source": []
  }
 ],
 "metadata": {
  "kernelspec": {
   "display_name": "Python 3",
   "language": "python",
   "name": "python3"
  },
  "language_info": {
   "codemirror_mode": {
    "name": "ipython",
    "version": 3
   },
   "file_extension": ".py",
   "mimetype": "text/x-python",
   "name": "python",
   "nbconvert_exporter": "python",
   "pygments_lexer": "ipython3",
   "version": "3.7.3"
  }
 },
 "nbformat": 4,
 "nbformat_minor": 2
}
